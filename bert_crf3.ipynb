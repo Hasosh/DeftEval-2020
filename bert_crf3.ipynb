{
 "cells": [
  {
   "cell_type": "markdown",
   "id": "aaa95ab4",
   "metadata": {},
   "source": [
    "# HLE Final Project\n",
    "\n",
    "## SemEval 2020 - Task 6: DeftEval: Extracting term-definition pairs in free text\n",
    "\n",
    "### Authors: Hasan Evci and Paweł Koźmiński "
   ]
  },
  {
   "cell_type": "markdown",
   "id": "2330f929",
   "metadata": {},
   "source": [
    "### import libraries"
   ]
  },
  {
   "cell_type": "code",
   "execution_count": 1,
   "id": "63600c63",
   "metadata": {},
   "outputs": [
    {
     "name": "stderr",
     "output_type": "stream",
     "text": [
      "C:\\Users\\Hasan\\anaconda3\\envs\\pytorch-nlp\\lib\\site-packages\\tqdm\\auto.py:22: TqdmWarning: IProgress not found. Please update jupyter and ipywidgets. See https://ipywidgets.readthedocs.io/en/stable/user_install.html\n",
      "  from .autonotebook import tqdm as notebook_tqdm\n"
     ]
    }
   ],
   "source": [
    "import pandas as pd\n",
    "import torch\n",
    "import transformers\n",
    "from transformers import BertTokenizer, BertModel\n",
    "import pickle\n",
    "from tensorflow.keras.preprocessing.sequence import pad_sequences\n",
    "import numpy as np\n",
    "from tqdm import tqdm, trange"
   ]
  },
  {
   "cell_type": "markdown",
   "id": "db6e3524",
   "metadata": {},
   "source": [
    "### config object containing important parameters and model parameters to configure"
   ]
  },
  {
   "cell_type": "code",
   "execution_count": 2,
   "id": "d8e2c95e",
   "metadata": {},
   "outputs": [],
   "source": [
    "class Config(object):\n",
    "    dev = False\n",
    "    use_data_augmentation = True\n",
    "\n",
    "    if use_data_augmentation:\n",
    "        train_path = \"data/train_augmentation.csv\" #\"data/train_oversampling.csv\"\n",
    "    else:\n",
    "        train_path = \"data/train.csv\"\n",
    "    validation_path = \"data/validation.csv\"\n",
    "    test_path = \"data/test.csv\"\n",
    "\n",
    "    # model / optimizer parameters\n",
    "    bert_model: str = 'allenai/scibert_scivocab_cased' #all considered models: 'allenai/scibert_scivocab_cased' ,'bert-base-cased','roberta-base'\n",
    "    use_crf = True # toggle if crf classifier should be used instead of linear classifier\n",
    "    full_finetuning: bool = True # toggle if all hyperparameters are fine-tuned. if False only parameters of classifier are fine-tuned\n",
    "    epochs: int = 5 # number of epochs\n",
    "    sequence_length: int = 512 # sequence length of the bert model\n",
    "    batch_size: int = 16 # batch size used during training / testing\n",
    "    hidden_dropout_prob: float = 0.1 # hidden dropout probability, BERT default is 0.1\n",
    "    lr: float = 5e-5 # lerning rate, best feeling: 4.5e-5 or 5e-5, best values were between 1e-5 and 6e-5\n",
    "    eps: float = 1e-8 # Adams epsilon parameter for numerical stability\n",
    "    warmup_steps: int = 0 # warm up steps \n",
    "    max_grad_norm: float = 1.0 # clip the norm of the gradient\n",
    "\n",
    "    update_step = 100\n",
    "    \n",
    "config = Config()"
   ]
  },
  {
   "cell_type": "markdown",
   "id": "ee11c9cf",
   "metadata": {},
   "source": [
    "### get training and validation dataloader (external python script handles this)"
   ]
  },
  {
   "cell_type": "code",
   "execution_count": 3,
   "id": "529012aa",
   "metadata": {},
   "outputs": [
    {
     "name": "stderr",
     "output_type": "stream",
     "text": [
      "C:\\Users\\Hasan\\Desktop\\Barcelona_Data\\FIB_Courses\\HLE\\Project\\code_repo_new\\HLE_Project\\get_dataloader.py:324: DtypeWarning: Columns (1) have mixed types. Specify dtype option on import or set low_memory=False.\n",
      "  data = pd.read_csv(path, encoding=\"utf-8\").fillna(method=\"ffill\")\n"
     ]
    },
    {
     "name": "stdout",
     "output_type": "stream",
     "text": [
      "{'O': 361479, 'B-Definition': 7244, 'I-Definition': 105540, 'B-Term': 7943, 'I-Term': 11232, 'B-Alias-Term': 870, 'I-Alias-Term': 1093, 'B-Secondary-Definition': 593, 'I-Secondary-Definition': 9826, 'B-Ordered-Term': 5, 'I-Ordered-Term': 13, 'B-Ordered-Definition': 5, 'I-Ordered-Definition': 51, 'B-Referential-Definition': 964, 'I-Referential-Definition': 2128, 'B-Qualifier': 840, 'I-Qualifier': 4801, 'B-Referential-Term': 848, 'B-Definition-frag': 89, 'I-Definition-frag': 975, 'I-Referential-Term': 991, 'B-Term-frag': 24, 'B-Alias-Term-frag': 15, 'I-Term-frag': 3}\n",
      "\n",
      "Total sentences:  25945\n",
      "Total labels:  517572\n",
      "\n",
      "Following tags and their corresponding IDs will be used:  {'B-Alias-Term': 0, 'B-Alias-Term-frag': 1, 'B-Definition': 2, 'B-Definition-frag': 3, 'B-Ordered-Definition': 4, 'B-Ordered-Term': 5, 'B-Qualifier': 6, 'B-Referential-Definition': 7, 'B-Referential-Term': 8, 'B-Secondary-Definition': 9, 'B-Term': 10, 'B-Term-frag': 11, 'I-Alias-Term': 12, 'I-Definition': 13, 'I-Definition-frag': 14, 'I-Ordered-Definition': 15, 'I-Ordered-Term': 16, 'I-Qualifier': 17, 'I-Referential-Definition': 18, 'I-Referential-Term': 19, 'I-Secondary-Definition': 20, 'I-Term': 21, 'I-Term-frag': 22, 'O': 23, 'PAD': 24} \n",
      "\n",
      "{'O': 16522, 'B-Term': 323, 'I-Term': 433, 'B-Definition': 296, 'I-Definition': 4324, 'B-Secondary-Definition': 17, 'I-Secondary-Definition': 350, 'B-Definition-frag': 1, 'I-Definition-frag': 2, 'B-Alias-Term': 26, 'I-Alias-Term': 30, 'B-Qualifier': 5, 'I-Qualifier': 29, 'B-Referential-Term': 4, 'B-Referential-Definition': 8, 'I-Referential-Definition': 9, 'I-Referential-Term': 1, 'B-Ordered-Term': 1, 'I-Ordered-Term': 8, 'B-Ordered-Definition': 1, 'I-Ordered-Definition': 22}\n",
      "\n",
      "Total sentences:  1179\n",
      "Total labels:  22412\n",
      "\n",
      "Following tags and their corresponding IDs will be used:  {'B-Alias-Term': 0, 'B-Alias-Term-frag': 1, 'B-Definition': 2, 'B-Definition-frag': 3, 'B-Ordered-Definition': 4, 'B-Ordered-Term': 5, 'B-Qualifier': 6, 'B-Referential-Definition': 7, 'B-Referential-Term': 8, 'B-Secondary-Definition': 9, 'B-Term': 10, 'B-Term-frag': 11, 'I-Alias-Term': 12, 'I-Definition': 13, 'I-Definition-frag': 14, 'I-Ordered-Definition': 15, 'I-Ordered-Term': 16, 'I-Qualifier': 17, 'I-Referential-Definition': 18, 'I-Referential-Term': 19, 'I-Secondary-Definition': 20, 'I-Term': 21, 'I-Term-frag': 22, 'O': 23, 'PAD': 24} \n",
      "\n"
     ]
    }
   ],
   "source": [
    "from get_dataloader import get_dataloader\n",
    "train_dataloader, tag_values, tag2idx = get_dataloader(config.train_path, \n",
    "                                                      data_kind=\"train\", \n",
    "                                                      tag_values=None,\n",
    "                                                      bert_model=config.bert_model, \n",
    "                                                      dev=config.dev, \n",
    "                                                      sequence_length=config.sequence_length, \n",
    "                                                      batch_size=config.batch_size)\n",
    "\n",
    "validation_dataloader, _, _ = get_dataloader(config.validation_path, \n",
    "                                                      data_kind=\"validation\", \n",
    "                                                      tag_values=tag_values,\n",
    "                                                      bert_model=config.bert_model, \n",
    "                                                      dev=config.dev, \n",
    "                                                      sequence_length=config.sequence_length, \n",
    "                                                      batch_size=config.batch_size)"
   ]
  },
  {
   "cell_type": "markdown",
   "id": "caa2b588",
   "metadata": {},
   "source": [
    "### Check if cuda gpu exists and if yes assign device to gpu, otherwise to cpu"
   ]
  },
  {
   "cell_type": "code",
   "execution_count": 4,
   "id": "ba59b092",
   "metadata": {},
   "outputs": [
    {
     "name": "stdout",
     "output_type": "stream",
     "text": [
      "cuda will be used \n",
      "\n",
      "There is (are) 1 GPU(s) available \n",
      "\n",
      "The GPU: ' NVIDIA GeForce RTX 3050 Laptop GPU ' will be used \n",
      "\n"
     ]
    }
   ],
   "source": [
    "def select_cuda():\n",
    "    \"\"\"for acceleration of the training cuda is used (gpu support)\n",
    "    \n",
    "    Returns:\n",
    "        TYPE: Description\n",
    "    \"\"\"\n",
    "    # if cuda is available, use gpu instead of the cpu\n",
    "    device = torch.device(\"cuda\" if torch.cuda.is_available() else \"cpu\")\n",
    "    print(device, \"will be used\", \"\\n\")\n",
    "\n",
    "    #get amount of gpus\n",
    "    n_gpu = torch.cuda.device_count()\n",
    "    print(\"There is (are)\", n_gpu, \"GPU(s) available\", \"\\n\")\n",
    "\n",
    "    # get the GPU name\n",
    "    gpu_name = torch.cuda.get_device_name(0)\n",
    "    if n_gpu != 0:\n",
    "        print(\"The GPU: '\", gpu_name, \"' will be used\", \"\\n\")\n",
    "\n",
    "    return device, n_gpu\n",
    "\n",
    "# select cuda for gpu support later in the training phase (to have faster training)\n",
    "device, n_gpu = select_cuda()"
   ]
  },
  {
   "cell_type": "markdown",
   "id": "cf6a27bc",
   "metadata": {},
   "source": [
    "### Define BERT-CRF and RoBERTa-CRF model architecture"
   ]
  },
  {
   "cell_type": "code",
   "execution_count": 5,
   "id": "8252d64b",
   "metadata": {},
   "outputs": [],
   "source": [
    "from transformers import BertPreTrainedModel, BertModel\n",
    "from transformers import RobertaPreTrainedModel, RobertaModel\n",
    "from torchcrf import CRF \n",
    "\n",
    "class Bert_CRF(BertPreTrainedModel):\n",
    "\n",
    "    \"\"\"a class summarizing the model architecture when crf is used on top of bert.\n",
    "    \n",
    "    Attributes:\n",
    "        bert (TYPE): the pretrained bert model to be used\n",
    "        classifier (TYPE): the classifier to be used on top of the pretrained bert model\n",
    "        crf (TYPE): the conditional random field to be used for the classifiers outputs\n",
    "        dropout (TYPE): dropout with its probability\n",
    "        num_labels (TYPE): number of labels to be used \n",
    "    \"\"\"\n",
    "\n",
    "    def __init__(self, config):\n",
    "        super(Bert_CRF, self).__init__(config)\n",
    "        self.num_labels = config.num_labels\n",
    "        self.bert = BertModel(config)\n",
    "        self.dropout = torch.nn.Dropout(config.hidden_dropout_prob) # 0.1 is default by BERT\n",
    "        self.classifier = torch.nn.Linear(config.hidden_size, self.num_labels)\n",
    "        self.init_weights()\n",
    "        self.crf = CRF(self.num_labels, batch_first=True)    \n",
    "    \n",
    "    def forward(self, input_ids, token_type_ids=None, attention_mask=None, labels=None):  \n",
    "        outputs = self.bert(input_ids,\n",
    "                            attention_mask=attention_mask,\n",
    "                            token_type_ids=token_type_ids)\n",
    "        sequence_output = outputs[0]\n",
    "        sequence_output = self.dropout(sequence_output)\n",
    "        emission = self.classifier(sequence_output)    \n",
    "        attention_mask = attention_mask.type(torch.uint8) # change to needed tensor\n",
    "        if labels is not None:\n",
    "            labels = labels.type(torch.long)      \n",
    "            loss = -self.crf(emission, labels, mask=attention_mask, reduction='mean')\n",
    "            return loss\n",
    "        else:\n",
    "            prediction = self.crf.decode(emission, mask=attention_mask)\n",
    "            return prediction\n",
    "        \n",
    "class Roberta_CRF(RobertaPreTrainedModel):\n",
    "\n",
    "    \"\"\"a class summarizing the model architecture when crf is used on top of bert.\n",
    "    \n",
    "    Attributes:\n",
    "        bert (TYPE): the pretrained bert model to be used\n",
    "        classifier (TYPE): the classifier to be used on top of the pretrained bert model\n",
    "        crf (TYPE): the conditional random field to be used for the classifiers outputs\n",
    "        dropout (TYPE): dropout with its probability\n",
    "        num_labels (TYPE): number of labels to be used \n",
    "    \"\"\"\n",
    "\n",
    "    def __init__(self, config):\n",
    "        super(Roberta_CRF, self).__init__(config)\n",
    "        self.num_labels = config.num_labels\n",
    "        self.bert = RobertaModel(config)\n",
    "        self.dropout = torch.nn.Dropout(config.hidden_dropout_prob) # 0.1 is default by BERT\n",
    "        self.classifier = torch.nn.Linear(config.hidden_size, self.num_labels)\n",
    "        self.init_weights()\n",
    "        self.crf = CRF(self.num_labels, batch_first=True)    \n",
    "    \n",
    "    def forward(self, input_ids, token_type_ids=None, attention_mask=None, labels=None):  \n",
    "        outputs = self.bert(input_ids,\n",
    "                            attention_mask=attention_mask,\n",
    "                            token_type_ids=token_type_ids)\n",
    "        sequence_output = outputs[0]\n",
    "        sequence_output = self.dropout(sequence_output)\n",
    "        emission = self.classifier(sequence_output)    \n",
    "        attention_mask = attention_mask.type(torch.uint8) # change to needed tensor\n",
    "        if labels is not None:\n",
    "            labels = labels.type(torch.long)      \n",
    "            loss = -self.crf(emission, labels, mask=attention_mask, reduction='mean')\n",
    "            return loss\n",
    "        else:\n",
    "            prediction = self.crf.decode(emission, mask=attention_mask)\n",
    "            return prediction"
   ]
  },
  {
   "cell_type": "markdown",
   "id": "0016fc35",
   "metadata": {},
   "source": [
    "### initialize model and assign it to cuda"
   ]
  },
  {
   "cell_type": "code",
   "execution_count": 6,
   "id": "cfb48b8b",
   "metadata": {},
   "outputs": [
    {
     "name": "stderr",
     "output_type": "stream",
     "text": [
      "Some weights of the model checkpoint at allenai/scibert_scivocab_cased were not used when initializing Bert_CRF: ['cls.predictions.decoder.weight', 'cls.seq_relationship.weight', 'cls.predictions.transform.LayerNorm.weight', 'cls.seq_relationship.bias', 'cls.predictions.bias', 'cls.predictions.decoder.bias', 'cls.predictions.transform.dense.weight', 'cls.predictions.transform.LayerNorm.bias', 'cls.predictions.transform.dense.bias']\n",
      "- This IS expected if you are initializing Bert_CRF from the checkpoint of a model trained on another task or with another architecture (e.g. initializing a BertForSequenceClassification model from a BertForPreTraining model).\n",
      "- This IS NOT expected if you are initializing Bert_CRF from the checkpoint of a model that you expect to be exactly identical (initializing a BertForSequenceClassification model from a BertForSequenceClassification model).\n",
      "Some weights of Bert_CRF were not initialized from the model checkpoint at allenai/scibert_scivocab_cased and are newly initialized: ['classifier.weight', 'crf.end_transitions', 'crf.transitions', 'crf.start_transitions', 'classifier.bias']\n",
      "You should probably TRAIN this model on a down-stream task to be able to use it for predictions and inference.\n"
     ]
    }
   ],
   "source": [
    "from transformers import BertForTokenClassification, RobertaForTokenClassification\n",
    "\n",
    "def initialize_model(tag2idx):\n",
    "    \"\"\"here the two specified models of this repository are initialized:\n",
    "    either BERT + BertForTokenClassification (linear layer) or BERT + CRF\n",
    "    \n",
    "    Args:\n",
    "        tag2idx (TYPE): Description\n",
    "    \n",
    "    Returns:\n",
    "        TYPE: Description\n",
    "    \"\"\"\n",
    "    if config.use_crf:\n",
    "        if not \"roberta\" in config.bert_model:\n",
    "            model = Bert_CRF.from_pretrained(\n",
    "                config.bert_model,  # pretrained model\n",
    "                num_labels=len(tag2idx), # amount of labels passed (for BertConfig)\n",
    "                output_attentions = False, # Whether or not to return the attentions tensors of all attention layers. \n",
    "                output_hidden_states = False # Whether or not to return the hidden states of all layers.\n",
    "            )\n",
    "        else:\n",
    "            model = Roberta_CRF.from_pretrained(\n",
    "                config.bert_model,  # pretrained model\n",
    "                num_labels=len(tag2idx), # amount of labels passed (for BertConfig)\n",
    "                output_attentions = False, # Whether or not to return the attentions tensors of all attention layers. \n",
    "                output_hidden_states = False # Whether or not to return the hidden states of all layers.\n",
    "            )\n",
    "    else:\n",
    "        # The transformer package provides a BertForTokenClassification class for token-level predictions. \n",
    "        # BertForTokenClassification is a fine-tuning model that wraps BertModel and adds token-level classifier \n",
    "        # on top of the BertModel. The token-level classifier is a linear layer that takes as input the last hidden state \n",
    "        # of the sequence. Same applies analogously for RobertaForTokenClassification on top of the RoBERTa model\n",
    "        if not \"roberta\" in config.bert_model:\n",
    "            model = BertForTokenClassification.from_pretrained(\n",
    "               config.bert_model,  # pretrained model, other option: 'bert-base-cased' etc.\n",
    "               num_labels=len(tag2idx), # amount of labels passed (prob. for BertConfig)\n",
    "               output_attentions = False, # Whether or not to return the attentions tensors of all attention layers. \n",
    "               output_hidden_states = False # Whether or not to return the hidden states of all layers.\n",
    "            )\n",
    "        else:\n",
    "            model = RobertaForTokenClassification.from_pretrained(\n",
    "           config.bert_model,  # pretrained model, other option: 'bert-base-cased' etc.\n",
    "           num_labels=len(tag2idx), # amount of labels passed (prob. for BertConfig)\n",
    "           output_attentions = False, # Whether or not to return the attentions tensors of all attention layers. \n",
    "           output_hidden_states = False # Whether or not to return the hidden states of all layers.\n",
    "            )\n",
    "\n",
    "    #Pass the model parameters to the GPU (faster computations)\n",
    "    model.cuda();\n",
    "\n",
    "    return model\n",
    "\n",
    "# empty the cuda (gpu) cache\n",
    "torch.cuda.empty_cache()\n",
    "\n",
    "# initialize the BERT model\n",
    "model = initialize_model(tag2idx)"
   ]
  },
  {
   "cell_type": "markdown",
   "id": "f7627423",
   "metadata": {},
   "source": [
    "### initialize AdamW optimizer\n",
    "\n",
    "##### The AdamW optimizer decouples the weight decay from the gradient update. This means that the weight decay and learning rate can be optimized separately. This leads to better model generalization."
   ]
  },
  {
   "cell_type": "code",
   "execution_count": 7,
   "id": "7c243fbf",
   "metadata": {},
   "outputs": [
    {
     "name": "stderr",
     "output_type": "stream",
     "text": [
      "C:\\Users\\Hasan\\anaconda3\\envs\\pytorch-nlp\\lib\\site-packages\\transformers\\optimization.py:306: FutureWarning: This implementation of AdamW is deprecated and will be removed in a future version. Use the PyTorch implementation torch.optim.AdamW instead, or set `no_deprecation_warning=True` to disable this warning\n",
      "  warnings.warn(\n"
     ]
    }
   ],
   "source": [
    "from transformers import AdamW\n",
    "\n",
    "def initialize_optimizer(model):\n",
    "    \"\"\"Having the initialized model as input, this method initializes an optimizer\n",
    "    \n",
    "    Args:\n",
    "        model (TYPE): Description\n",
    "    \n",
    "    Returns:\n",
    "        TYPE: Description\n",
    "    \"\"\"\n",
    "    # Before we can start the fine-tuning process, we have to setup the optimizer and add the parameters it should update. \n",
    "    # A common choice is the AdamW optimizer. weight_decay is added as regularization to the main weight matrices. \n",
    "    if config.full_finetuning:\n",
    "        # Returns an iterator over module parameters, yielding both the name of the parameter as well as the parameter itself.\n",
    "        param_optimizer = list(model.named_parameters()) # all parameters to be optimized\n",
    "        \n",
    "        # there are different types of model parameters in model.named_parameters(). for the 3 values bias, gamma, beta\n",
    "        # there should be no decay in the learning rate of these paramters. For all other parameters the decay is 0.01\n",
    "        no_decay = ['bias', 'gamma', 'beta']\n",
    "        optimizer_grouped_parameters = [\n",
    "            {'params': [p for n, p in param_optimizer if not any(nd in n for nd in no_decay)],\n",
    "             'weight_decay_rate': 0.01}, # was 0.01\n",
    "            {'params': [p for n, p in param_optimizer if any(nd in n for nd in no_decay)],\n",
    "             'weight_decay_rate': 0.0}\n",
    "        ]\n",
    "    else:\n",
    "        param_optimizer = list(model.classifier.named_parameters()) # only optimize parameters of classifier\n",
    "        optimizer_grouped_parameters = [{\"params\": [p for n, p in param_optimizer]}]\n",
    "\n",
    "    # pass the parameters to the AdamW optimizer, define learning rate, define epsilon ?\n",
    "    optimizer = AdamW(\n",
    "        optimizer_grouped_parameters, # parameters\n",
    "        lr=config.lr, # learning rate\n",
    "        eps=config.eps # epsilon: very small number to prevent any division by zero in the implementation\n",
    "    )\n",
    "\n",
    "    return optimizer\n",
    "\n",
    "# initialize the AdamW optimizer\n",
    "optimizer = initialize_optimizer(model)"
   ]
  },
  {
   "cell_type": "markdown",
   "id": "5c204ead",
   "metadata": {},
   "source": [
    "### initialize scheduler"
   ]
  },
  {
   "cell_type": "code",
   "execution_count": 8,
   "id": "baab1162",
   "metadata": {},
   "outputs": [],
   "source": [
    "from transformers import get_linear_schedule_with_warmup\n",
    "\n",
    "# Total number of training steps is number of batches * number of epochs. (for scheduler)\n",
    "total_steps = len(train_dataloader) * config.epochs\n",
    "\n",
    "# Create the learning rate scheduler.\n",
    "scheduler = get_linear_schedule_with_warmup(\n",
    "    optimizer,\n",
    "    num_warmup_steps=config.warmup_steps,\n",
    "    num_training_steps=total_steps\n",
    ")"
   ]
  },
  {
   "cell_type": "markdown",
   "id": "1b6f5008",
   "metadata": {},
   "source": [
    "### methods for saving checkpoints and calculating relevant metrics and further auxiliary methods"
   ]
  },
  {
   "cell_type": "code",
   "execution_count": 9,
   "id": "7c9924fa",
   "metadata": {},
   "outputs": [],
   "source": [
    "import time\n",
    "from sklearn.metrics import accuracy_score, f1_score, precision_score, recall_score, classification_report\n",
    "\n",
    "def save_checkpoint(epoch, model, optimizer, scheduler, tag_values, loss_values, validation_loss_values, precision_scores, recall_scores, f1_scores, save_config=False): #TODO update doc\n",
    "    \"\"\"method for saving a checkpoint of model training and if wanted the config values, too\n",
    "    \n",
    "    Args:\n",
    "        epoch (TYPE): current epoch\n",
    "        model (TYPE): current model (parameters)\n",
    "        optimizer (TYPE): current optimizer (parameters)\n",
    "        scheduler (TYPE): current scheduler (parameters)\n",
    "        tag_values (TYPE): used tag_values\n",
    "        loss_values (TYPE): so far all collected loss values\n",
    "        validation_loss_values (TYPE): so far all collected validation loss values\n",
    "    \"\"\"\n",
    "    state = {\n",
    "        'epoch': epoch,\n",
    "        'state_dict': model.state_dict(),\n",
    "        'optimizer': optimizer.state_dict(),\n",
    "        'scheduler': scheduler.state_dict(),\n",
    "        'tag_values': tag_values,\n",
    "        'loss_values': loss_values,\n",
    "        'validation_loss_values': validation_loss_values,\n",
    "        'precision_scores': precision_scores,\n",
    "        'recall_scores': recall_scores,\n",
    "        'f1_scores': f1_scores,\n",
    "        'config': config\n",
    "    }\n",
    "    torch.save(state, 'model_checkpoints/checkpoint_{model}_{ep}.pt'.format(model = config.bert_model, ep = epoch)) # does not work for scibert because '/' is in pretrained model name\n",
    "\n",
    "def calculate_relevant_metrics(y_true: list, y_pred: list, tag2idx: dict):\n",
    "    \"\"\"The classification metrics precision, recall and f1-score are calculated and returned.\n",
    "    If wanted a classification report can be returned. It contains the above mentioned metrics\n",
    "    for all labels.\n",
    "    \n",
    "    Args:\n",
    "        y_true (list): Description\n",
    "        y_pred (list): Description\n",
    "        tag_values (list): Description\n",
    "        report_wanted (bool, optional): Description\n",
    "    \n",
    "    Returns:\n",
    "        TYPE: Description\n",
    "    \"\"\"\n",
    "    \n",
    "    y_true = [item for sublist in y_true for item in sublist]\n",
    "    y_pred = [item for sublist in y_pred for item in sublist]\n",
    "    \n",
    "    relevant_labels_for_evaluation = [tag2idx['B-Term'], tag2idx['I-Term'], tag2idx['B-Definition'], tag2idx['I-Definition'], tag2idx['B-Alias-Term'], tag2idx['I-Alias-Term'], tag2idx['B-Referential-Definition'], tag2idx['I-Referential-Definition'], tag2idx['B-Referential-Term'], tag2idx['I-Referential-Term'], tag2idx['B-Qualifier'], tag2idx['I-Qualifier']]\n",
    "    \n",
    "    current_precision_score = precision_score(y_true, y_pred, labels=relevant_labels_for_evaluation, average=\"macro\")\n",
    "    current_recall_score = recall_score(y_true, y_pred, labels=relevant_labels_for_evaluation, average=\"macro\")\n",
    "    current_f1_score = f1_score(y_true, y_pred, labels=relevant_labels_for_evaluation, average=\"macro\")\n",
    "    \n",
    "    current_precision_score2 = precision_score(y_true, y_pred, labels=relevant_labels_for_evaluation, average=\"micro\")\n",
    "    current_recall_score2 = recall_score(y_true, y_pred, labels=relevant_labels_for_evaluation, average=\"micro\")\n",
    "    current_f1_score2 = f1_score(y_true, y_pred, labels=relevant_labels_for_evaluation, average=\"micro\")\n",
    "    \n",
    "    current_precision_score = [current_precision_score, current_precision_score2]\n",
    "    current_recall_score = [current_recall_score, current_recall_score2]\n",
    "    current_f1_score = [current_f1_score, current_f1_score2]\n",
    "    \n",
    "    target_names = ['B-Term', 'I-Term', 'B-Definition', 'I-Definition', 'B-Alias-Term', 'I-Alias-Term', 'B-Referential-Definition', 'I-Referential-Definition', 'B-Referential-Term', 'I-Referential-Term', 'B-Qualifier', 'I-Qualifier']\n",
    "\n",
    "    result_classification_report = classification_report(y_true, y_pred, labels=relevant_labels_for_evaluation, target_names=target_names, output_dict = True)\n",
    "    return current_precision_score, current_recall_score, current_f1_score, result_classification_report\n",
    "\n",
    "def apply_masked_select(input_tensor, mask):\n",
    "    new_tensor = []\n",
    "    for i in range(len(input_tensor)):\n",
    "        new_tensor.append(torch.masked_select(input_tensor[i], mask[i]).tolist())\n",
    "    return new_tensor\n",
    "\n",
    "def pad_and_tensor_logits(logits, tag2idx):\n",
    "    new_logits = pad_sequences([[l for l in logit] for logit in logits],\n",
    "                         maxlen=config.sequence_length, \n",
    "                         dtype=\"long\", \n",
    "                         value=tag2idx[\"PAD\"],\n",
    "                         truncating=\"post\",\n",
    "                         padding=\"post\")\n",
    "    new_logits = torch.tensor(new_logits)\n",
    "    new_logits = new_logits.to(device)\n",
    "    return new_logits"
   ]
  },
  {
   "cell_type": "markdown",
   "id": "7a9094b3",
   "metadata": {},
   "source": [
    "### training the model"
   ]
  },
  {
   "cell_type": "code",
   "execution_count": 9,
   "id": "70882a67",
   "metadata": {
    "scrolled": true
   },
   "outputs": [
    {
     "name": "stdout",
     "output_type": "stream",
     "text": [
      "Total iterations to be made:  600 \n",
      "\n"
     ]
    },
    {
     "name": "stderr",
     "output_type": "stream",
     "text": [
      "Epoch:   0%|          | 0/4 [00:00<?, ?it/s]\n",
      "training progress:   0%|          | 0/150 [00:00<?, ?it/s]\u001b[AC:\\Users\\Hasan\\anaconda3\\envs\\pytorch-nlp\\lib\\site-packages\\torchcrf\\__init__.py:249: UserWarning: where received a uint8 condition tensor. This behavior is deprecated and will be removed in a future version of PyTorch. Use a boolean condition instead. (Triggered internally at C:\\cb\\pytorch_1000000000000\\work\\aten\\src\\ATen\\native\\TensorCompare.cpp:413.)\n",
      "  score = torch.where(mask[i].unsqueeze(1), next_score, score)\n",
      "\n",
      "training progress:  67%|██████▋   | 100/150 [00:32<00:16,  3.12it/s]\u001b[A"
     ]
    },
    {
     "name": "stdout",
     "output_type": "stream",
     "text": [
      "At step 100 of epoch 0 we have loss: 111.091690\n"
     ]
    },
    {
     "name": "stderr",
     "output_type": "stream",
     "text": [
      "training progress:  67%|██████▋   | 100/150 [00:47<00:23,  2.11it/s]\n",
      "C:\\Users\\Hasan\\AppData\\Local\\Temp\\ipykernel_23424\\1241071694.py:78: UserWarning: indexing with dtype torch.uint8 is now deprecated, please use a dtype torch.bool instead. (Triggered internally at C:\\cb\\pytorch_1000000000000\\work\\aten\\src\\ATen/native/IndexingUtils.h:28.)\n",
      "  new_tensor.append(torch.masked_select(input_tensor[i], mask[i]).tolist())\n"
     ]
    },
    {
     "name": "stdout",
     "output_type": "stream",
     "text": [
      "TRAINING OF 1. EPOCH ACCOMPLISHED !\n",
      "Average train loss: 114.8892008972168 \n",
      "\n",
      "Validation loss: 73.91735294886998 \n",
      "\n",
      "Validation (Macro / Micro) Precision-Score: [0.25427740412508837, 0.7811131957473421]\n",
      "Validation (Macro / Micro) Recall-Score: [0.21288002675376722, 0.7811131957473421]\n",
      "Validation (Macro / Micro) F1-Score: [0.2263990948385151, 0.7811131957473421] \n",
      "\n",
      "VALIDATION OF 1. EPOCH ACCOMPLISHED ! \n",
      "\n"
     ]
    },
    {
     "name": "stderr",
     "output_type": "stream",
     "text": [
      "C:\\Users\\Hasan\\anaconda3\\envs\\pytorch-nlp\\lib\\site-packages\\sklearn\\metrics\\_classification.py:1344: UndefinedMetricWarning: Precision is ill-defined and being set to 0.0 in labels with no predicted samples. Use `zero_division` parameter to control this behavior.\n",
      "  _warn_prf(average, modifier, msg_start, len(result))\n",
      "C:\\Users\\Hasan\\anaconda3\\envs\\pytorch-nlp\\lib\\site-packages\\sklearn\\metrics\\_classification.py:1344: UndefinedMetricWarning: Precision and F-score are ill-defined and being set to 0.0 in labels with no predicted samples. Use `zero_division` parameter to control this behavior.\n",
      "  _warn_prf(average, modifier, msg_start, len(result))\n",
      "C:\\Users\\Hasan\\anaconda3\\envs\\pytorch-nlp\\lib\\site-packages\\sklearn\\metrics\\_classification.py:1344: UndefinedMetricWarning: Precision and F-score are ill-defined and being set to 0.0 in labels with no predicted samples. Use `zero_division` parameter to control this behavior.\n",
      "  _warn_prf(average, modifier, msg_start, len(result))\n",
      "C:\\Users\\Hasan\\anaconda3\\envs\\pytorch-nlp\\lib\\site-packages\\sklearn\\metrics\\_classification.py:1344: UndefinedMetricWarning: Precision and F-score are ill-defined and being set to 0.0 in labels with no predicted samples. Use `zero_division` parameter to control this behavior.\n",
      "  _warn_prf(average, modifier, msg_start, len(result))\n",
      "Epoch:  25%|██▌       | 1/4 [00:49<02:29, 49.81s/it]\n",
      "training progress:   0%|          | 0/150 [00:00<?, ?it/s]\u001b[A\n",
      "training progress:  67%|██████▋   | 100/150 [00:31<00:15,  3.22it/s]\u001b[A"
     ]
    },
    {
     "name": "stdout",
     "output_type": "stream",
     "text": [
      "At step 100 of epoch 1 we have loss: 60.155022\n"
     ]
    },
    {
     "name": "stderr",
     "output_type": "stream",
     "text": [
      "training progress:  67%|██████▋   | 100/150 [00:47<00:23,  2.12it/s]\n",
      "C:\\Users\\Hasan\\AppData\\Local\\Temp\\ipykernel_23424\\1241071694.py:78: UserWarning: indexing with dtype torch.uint8 is now deprecated, please use a dtype torch.bool instead. (Triggered internally at C:\\cb\\pytorch_1000000000000\\work\\aten\\src\\ATen/native/IndexingUtils.h:28.)\n",
      "  new_tensor.append(torch.masked_select(input_tensor[i], mask[i]).tolist())\n"
     ]
    },
    {
     "name": "stdout",
     "output_type": "stream",
     "text": [
      "TRAINING OF 2. EPOCH ACCOMPLISHED !\n",
      "Average train loss: 68.3094677734375 \n",
      "\n",
      "Validation loss: 73.34371948242188 \n",
      "\n",
      "Validation (Macro / Micro) Precision-Score: [0.43076708556194093, 0.7811131957473421]\n",
      "Validation (Macro / Micro) Recall-Score: [0.37067638472584014, 0.7811131957473421]\n",
      "Validation (Macro / Micro) F1-Score: [0.3823961302653214, 0.7811131957473421] \n",
      "\n",
      "VALIDATION OF 2. EPOCH ACCOMPLISHED ! \n",
      "\n"
     ]
    },
    {
     "name": "stderr",
     "output_type": "stream",
     "text": [
      "C:\\Users\\Hasan\\anaconda3\\envs\\pytorch-nlp\\lib\\site-packages\\sklearn\\metrics\\_classification.py:1344: UndefinedMetricWarning: Precision is ill-defined and being set to 0.0 in labels with no predicted samples. Use `zero_division` parameter to control this behavior.\n",
      "  _warn_prf(average, modifier, msg_start, len(result))\n",
      "C:\\Users\\Hasan\\anaconda3\\envs\\pytorch-nlp\\lib\\site-packages\\sklearn\\metrics\\_classification.py:1344: UndefinedMetricWarning: Precision and F-score are ill-defined and being set to 0.0 in labels with no predicted samples. Use `zero_division` parameter to control this behavior.\n",
      "  _warn_prf(average, modifier, msg_start, len(result))\n",
      "C:\\Users\\Hasan\\anaconda3\\envs\\pytorch-nlp\\lib\\site-packages\\sklearn\\metrics\\_classification.py:1344: UndefinedMetricWarning: Precision and F-score are ill-defined and being set to 0.0 in labels with no predicted samples. Use `zero_division` parameter to control this behavior.\n",
      "  _warn_prf(average, modifier, msg_start, len(result))\n",
      "C:\\Users\\Hasan\\anaconda3\\envs\\pytorch-nlp\\lib\\site-packages\\sklearn\\metrics\\_classification.py:1344: UndefinedMetricWarning: Precision and F-score are ill-defined and being set to 0.0 in labels with no predicted samples. Use `zero_division` parameter to control this behavior.\n",
      "  _warn_prf(average, modifier, msg_start, len(result))\n",
      "Epoch:  50%|█████     | 2/4 [01:41<01:41, 50.81s/it]\n",
      "training progress:   0%|          | 0/150 [00:00<?, ?it/s]\u001b[A\n",
      "training progress:  67%|██████▋   | 100/150 [00:31<00:15,  3.18it/s]\u001b[A"
     ]
    },
    {
     "name": "stdout",
     "output_type": "stream",
     "text": [
      "At step 100 of epoch 2 we have loss: 30.428940\n"
     ]
    },
    {
     "name": "stderr",
     "output_type": "stream",
     "text": [
      "training progress:  67%|██████▋   | 100/150 [00:47<00:23,  2.11it/s]\n",
      "C:\\Users\\Hasan\\AppData\\Local\\Temp\\ipykernel_23424\\1241071694.py:78: UserWarning: indexing with dtype torch.uint8 is now deprecated, please use a dtype torch.bool instead. (Triggered internally at C:\\cb\\pytorch_1000000000000\\work\\aten\\src\\ATen/native/IndexingUtils.h:28.)\n",
      "  new_tensor.append(torch.masked_select(input_tensor[i], mask[i]).tolist())\n"
     ]
    },
    {
     "name": "stdout",
     "output_type": "stream",
     "text": [
      "TRAINING OF 3. EPOCH ACCOMPLISHED !\n",
      "Average train loss: 42.36228897094727 \n",
      "\n",
      "Validation loss: 79.84410967145648 \n",
      "\n",
      "Validation (Macro / Micro) Precision-Score: [0.37109021836614425, 0.7904940587867417]\n",
      "Validation (Macro / Micro) Recall-Score: [0.32727252815519237, 0.7904940587867417]\n",
      "Validation (Macro / Micro) F1-Score: [0.3401700561188671, 0.7904940587867417] \n",
      "\n",
      "VALIDATION OF 3. EPOCH ACCOMPLISHED ! \n",
      "\n"
     ]
    },
    {
     "name": "stderr",
     "output_type": "stream",
     "text": [
      "C:\\Users\\Hasan\\anaconda3\\envs\\pytorch-nlp\\lib\\site-packages\\sklearn\\metrics\\_classification.py:1344: UndefinedMetricWarning: Precision is ill-defined and being set to 0.0 in labels with no predicted samples. Use `zero_division` parameter to control this behavior.\n",
      "  _warn_prf(average, modifier, msg_start, len(result))\n",
      "C:\\Users\\Hasan\\anaconda3\\envs\\pytorch-nlp\\lib\\site-packages\\sklearn\\metrics\\_classification.py:1344: UndefinedMetricWarning: Precision and F-score are ill-defined and being set to 0.0 in labels with no predicted samples. Use `zero_division` parameter to control this behavior.\n",
      "  _warn_prf(average, modifier, msg_start, len(result))\n",
      "C:\\Users\\Hasan\\anaconda3\\envs\\pytorch-nlp\\lib\\site-packages\\sklearn\\metrics\\_classification.py:1344: UndefinedMetricWarning: Precision and F-score are ill-defined and being set to 0.0 in labels with no predicted samples. Use `zero_division` parameter to control this behavior.\n",
      "  _warn_prf(average, modifier, msg_start, len(result))\n",
      "C:\\Users\\Hasan\\anaconda3\\envs\\pytorch-nlp\\lib\\site-packages\\sklearn\\metrics\\_classification.py:1344: UndefinedMetricWarning: Precision and F-score are ill-defined and being set to 0.0 in labels with no predicted samples. Use `zero_division` parameter to control this behavior.\n",
      "  _warn_prf(average, modifier, msg_start, len(result))\n",
      "Epoch:  75%|███████▌  | 3/4 [02:35<00:52, 52.24s/it]\n",
      "training progress:   0%|          | 0/150 [00:00<?, ?it/s]\u001b[A\n",
      "training progress:  67%|██████▋   | 100/150 [00:33<00:16,  3.02it/s]\u001b[A"
     ]
    },
    {
     "name": "stdout",
     "output_type": "stream",
     "text": [
      "At step 100 of epoch 3 we have loss: 11.567657\n"
     ]
    },
    {
     "name": "stderr",
     "output_type": "stream",
     "text": [
      "training progress:  67%|██████▋   | 100/150 [00:49<00:24,  2.02it/s]\n",
      "C:\\Users\\Hasan\\AppData\\Local\\Temp\\ipykernel_23424\\1241071694.py:78: UserWarning: indexing with dtype torch.uint8 is now deprecated, please use a dtype torch.bool instead. (Triggered internally at C:\\cb\\pytorch_1000000000000\\work\\aten\\src\\ATen/native/IndexingUtils.h:28.)\n",
      "  new_tensor.append(torch.masked_select(input_tensor[i], mask[i]).tolist())\n"
     ]
    },
    {
     "name": "stdout",
     "output_type": "stream",
     "text": [
      "TRAINING OF 4. EPOCH ACCOMPLISHED !\n",
      "Average train loss: 26.859454701741537 \n",
      "\n",
      "Validation loss: 84.76912798200335 \n",
      "\n",
      "Validation (Macro / Micro) Precision-Score: [0.4384665103415103, 0.7892432770481551]\n",
      "Validation (Macro / Micro) Recall-Score: [0.40450098718437, 0.7892432770481551]\n",
      "Validation (Macro / Micro) F1-Score: [0.41751739489216655, 0.7892432770481551] \n",
      "\n",
      "VALIDATION OF 4. EPOCH ACCOMPLISHED ! \n",
      "\n"
     ]
    },
    {
     "name": "stderr",
     "output_type": "stream",
     "text": [
      "C:\\Users\\Hasan\\anaconda3\\envs\\pytorch-nlp\\lib\\site-packages\\sklearn\\metrics\\_classification.py:1344: UndefinedMetricWarning: Precision is ill-defined and being set to 0.0 in labels with no predicted samples. Use `zero_division` parameter to control this behavior.\n",
      "  _warn_prf(average, modifier, msg_start, len(result))\n",
      "C:\\Users\\Hasan\\anaconda3\\envs\\pytorch-nlp\\lib\\site-packages\\sklearn\\metrics\\_classification.py:1344: UndefinedMetricWarning: Precision and F-score are ill-defined and being set to 0.0 in labels with no predicted samples. Use `zero_division` parameter to control this behavior.\n",
      "  _warn_prf(average, modifier, msg_start, len(result))\n",
      "C:\\Users\\Hasan\\anaconda3\\envs\\pytorch-nlp\\lib\\site-packages\\sklearn\\metrics\\_classification.py:1344: UndefinedMetricWarning: Precision and F-score are ill-defined and being set to 0.0 in labels with no predicted samples. Use `zero_division` parameter to control this behavior.\n",
      "  _warn_prf(average, modifier, msg_start, len(result))\n",
      "C:\\Users\\Hasan\\anaconda3\\envs\\pytorch-nlp\\lib\\site-packages\\sklearn\\metrics\\_classification.py:1344: UndefinedMetricWarning: Precision and F-score are ill-defined and being set to 0.0 in labels with no predicted samples. Use `zero_division` parameter to control this behavior.\n",
      "  _warn_prf(average, modifier, msg_start, len(result))\n",
      "Epoch: 100%|██████████| 4/4 [03:32<00:00, 53.14s/it]"
     ]
    },
    {
     "name": "stdout",
     "output_type": "stream",
     "text": [
      "whole Training time: 0.05904568182097541 hours\n"
     ]
    },
    {
     "name": "stderr",
     "output_type": "stream",
     "text": [
      "\n"
     ]
    }
   ],
   "source": [
    "def train(model, optimizer, scheduler, train_dataloader, valid_dataloader, tag_values, tag2idx):\n",
    "    \"\"\"training of the BERT model (BERT + BertForTokenClasssification or BERT + CRF)\n",
    "    \n",
    "    Args:\n",
    "        model (Bert_CRF): Description\n",
    "        optimizer (transformers.optimization.AdamW): Description\n",
    "        scheduler (torch.optim.lr_scheduler.LambdaLR): Description\n",
    "        train_dataloader (torch.utils.data.dataloader.DataLoader): Description\n",
    "        valid_dataloader (torch.utils.data.dataloader.DataLoader): Description\n",
    "        tag_values (list): Description\n",
    "        tag2idx (dict): Description\n",
    "    \n",
    "    Returns:\n",
    "        TYPE: Description\n",
    "    \"\"\"\n",
    "    # measuring length of the training phase\n",
    "    startTime = time.time()\n",
    "\n",
    "    # saving loss for both training and validation phase\n",
    "    loss_values, validation_loss_values = [], []\n",
    "\n",
    "    # saving precision-, recall- and f1 - scores for every epoch, also for plotting\n",
    "    precision_scores, recall_scores, f1_scores = [], [], [] \n",
    "\n",
    "    # specify epochs to train\n",
    "    epochs_to_train = config.epochs\n",
    "\n",
    "    # print total iterations\n",
    "    print(\"Total iterations to be made: \", epochs_to_train * len(train_dataloader), \"\\n\")\n",
    "    \n",
    "    # trange is for smart progress meter showing\n",
    "    for e in trange(epochs_to_train, desc=\"Epoch\"):\n",
    "        # ========================================\n",
    "        #               Training\n",
    "        # ========================================\n",
    "        # Perform one full pass over the training set.\n",
    "\n",
    "        # Put the model into training mode.\n",
    "        model.train()\n",
    "        # Reset the total loss for this epoch.\n",
    "        total_loss = 0\n",
    "        \n",
    "        # Training loop, tqdm for progress bar viewing \n",
    "        with tqdm(total=len(train_dataloader), desc = \"training progress\") as progress_bar: \n",
    "            for step, batch in enumerate(train_dataloader):\n",
    "\n",
    "                # add batch to gpu\n",
    "                batch = tuple(t.to(device) for t in batch)\n",
    "\n",
    "                b_input_ids, b_input_mask, b_labels, b_filter_masks = batch\n",
    "                \n",
    "                optimizer.zero_grad()\n",
    "                \n",
    "                # forward pass\n",
    "                # This will return the loss (rather than the model output)\n",
    "                # because we have provided the `labels`.\n",
    "                loss = model(b_input_ids, \n",
    "                             token_type_ids=None,\n",
    "                             attention_mask=b_input_mask,\n",
    "                             labels=b_labels) \n",
    "\n",
    "                if not config.use_crf:\n",
    "                    # when using BertForTokenClassification the output of the model is different:\n",
    "                    # output is a TokenClassifierOutput consisting of\n",
    "                    # loss, logits, hidden_states, attentions (in correctly this order)\n",
    "                    # thus we need index 0 to get the loss\n",
    "                    loss = loss[0]\n",
    "\n",
    "                # Perform a backward pass to calculate the gradients.\n",
    "                loss.backward() \n",
    "                \n",
    "                # track train loss\n",
    "                total_loss += loss.item()\n",
    "                \n",
    "                # Clip the norm of the gradient\n",
    "                # This is to help prevent the \"exploding gradients\" problem.\n",
    "                torch.nn.utils.clip_grad_norm_(parameters=model.parameters(), max_norm=config.max_grad_norm)\n",
    "\n",
    "                # update parameters\n",
    "                optimizer.step()\n",
    "                # Update the learning rate.\n",
    "                scheduler.step()\n",
    "                # Always clear any previously calculated gradients before performing a backward pass.\n",
    "                model.zero_grad() \n",
    "                \n",
    "                # update progress\n",
    "                if ((step + 1) % config.update_step == 0):\n",
    "                    print(\"At step %d of epoch %d we have loss: %f\" %(step + 1, e, loss.item()))\n",
    "                    progress_bar.update(config.update_step) # for progress bar viewing \n",
    "                \n",
    "\n",
    "        print(\"TRAINING OF {}. EPOCH ACCOMPLISHED !\".format(e+1))\n",
    "        # Calculate the average loss over the training data.\n",
    "        avg_train_loss = total_loss / len(train_dataloader)\n",
    "        print(\"Average train loss: {} \\n\".format(avg_train_loss))\n",
    "\n",
    "        # Store the loss value for plotting the learning curve.\n",
    "        loss_values.append(avg_train_loss)\n",
    "\n",
    "\n",
    "        # ========================================\n",
    "        #               Validation\n",
    "        # ========================================\n",
    "        # After the completion of each training epoch, measure our performance on\n",
    "        # our validation set.\n",
    "\n",
    "        # Put the model into evaluation mode\n",
    "        model.eval()\n",
    "        # Reset the validation loss for this epoch.\n",
    "        eval_loss, eval_accuracy = 0, 0\n",
    "        predictions, true_labels = [], []\n",
    "        for batch in valid_dataloader:\n",
    "            batch = tuple(t.to(device) for t in batch)\n",
    "            b_input_ids, b_input_mask, b_labels, b_filter_mask = batch\n",
    "            if config.use_crf:\n",
    "                # Telling the model not to compute or store gradients,\n",
    "                # saving memory and speeding up validation\n",
    "                with torch.no_grad():\n",
    "                    # Forward pass, calculate logit predictions and validation loss.     \n",
    "                    # This will return the logits rather than the loss because we have not provided labels.\n",
    "                    # Note: In CRF implementation, the logits already omit the classification of the pad values\n",
    "                    logits = model(b_input_ids,\n",
    "                                   token_type_ids=None,\n",
    "                                   attention_mask = b_input_mask)\n",
    "                    \n",
    "                    # This will return the loss rather than the logits because we have provided labels.\n",
    "                    loss = model(b_input_ids, \n",
    "                                 token_type_ids=None,\n",
    "                                 attention_mask=b_input_mask,\n",
    "                                 labels=b_labels) # token_type_ids=None,\n",
    "\n",
    "                # get the evaluation loss\n",
    "                eval_loss += loss.item()\n",
    "\n",
    "                # filter to relevant logits\n",
    "                masked_logits = apply_masked_select(pad_and_tensor_logits(logits, tag2idx), b_filter_mask)\n",
    "\n",
    "                # filter to relevant labels\n",
    "                masked_b_labels = apply_masked_select(b_labels, b_filter_mask)\n",
    "            \n",
    "                predictions.extend(masked_logits)\n",
    "                true_labels.extend(masked_b_labels)\n",
    "                \n",
    "                assert len(predictions) == len(true_labels) and len(masked_logits) == len(masked_b_labels), \"Please check if the length of predictions and that of true labels are identical.\"\n",
    "            else:\n",
    "                # Telling the model not to compute or store gradients,\n",
    "                # saving memory and speeding up validation\n",
    "                with torch.no_grad():\n",
    "                    # Forward pass, calculate logit predictions and validation loss.   \n",
    "                    # This will return the TokenClassifierOutput as in training (see documentation BertForTokenClassification).\n",
    "                    outputs = model(b_input_ids, \n",
    "                                 token_type_ids=None,\n",
    "                                 attention_mask=b_input_mask,\n",
    "                                 labels=b_labels) # token_type_ids=None,\n",
    "\n",
    "                # Move logits and labels to CPU\n",
    "                logits = outputs[1].detach().cpu().numpy()\n",
    "                label_ids = b_labels.to('cpu').numpy()\n",
    "\n",
    "                # get the evaluation loss.\n",
    "                eval_loss += outputs[0].mean().item()\n",
    "                # get the labels by taking the argmax of the softmax output and put it into predictions\n",
    "                predicted_labels = [list(p) for p in np.argmax(logits, axis=2)]\n",
    "                predictions.extend(predicted_labels) \n",
    "                # add the true labels to true_labels for comparing with predictions\n",
    "                true_labels.extend(label_ids) \n",
    "\n",
    "        eval_loss = eval_loss / len(valid_dataloader)\n",
    "        validation_loss_values.append(eval_loss)\n",
    "        print(\"Validation loss: {} \\n\".format(eval_loss))\n",
    "        \n",
    "        current_precision_score, current_recall_score, current_f1_score, _ = calculate_relevant_metrics(true_labels, predictions, tag2idx)\n",
    "\n",
    "        precision_scores.append(current_precision_score)\n",
    "        recall_scores.append(current_recall_score)\n",
    "        f1_scores.append(current_f1_score)\n",
    "\n",
    "        print(\"Validation (Macro / Micro) Precision-Score: {}\".format(current_precision_score))\n",
    "        print(\"Validation (Macro / Micro) Recall-Score: {}\".format(current_recall_score))\n",
    "        print(\"Validation (Macro / Micro) F1-Score: {} \\n\".format(current_f1_score))\n",
    "\n",
    "        print(\"VALIDATION OF {}. EPOCH ACCOMPLISHED ! \\n\".format(e+1))\n",
    "        \n",
    "        save_checkpoint(e, model, optimizer, scheduler, tag_values, loss_values, validation_loss_values, precision_scores, recall_scores, f1_scores)\n",
    "\n",
    "    endTime = time.time() - startTime\n",
    "    print(f'whole Training time: {endTime / 3600} hours')\n",
    "\n",
    "    return loss_values, validation_loss_values, precision_scores, recall_scores, f1_scores\n",
    "\n",
    "#execute training\n",
    "loss_values, validation_loss_values, precision_scores, recall_scores, f1_scores = train( \n",
    "                                                                        model, \n",
    "                                                                        optimizer, \n",
    "                                                                        scheduler, \n",
    "                                                                        train_dataloader, \n",
    "                                                                        validation_dataloader, \n",
    "                                                                        tag_values,\n",
    "                                                                        tag2idx)"
   ]
  },
  {
   "cell_type": "markdown",
   "id": "90e47b64",
   "metadata": {},
   "source": [
    "### plotting loss and scores for training and validation per epoch"
   ]
  },
  {
   "cell_type": "code",
   "execution_count": 17,
   "id": "200f11a1",
   "metadata": {},
   "outputs": [
    {
     "data": {
      "image/png": "[encoded data removed]",
      "text/plain": [
       "<Figure size 1200x600 with 1 Axes>"
      ]
     },
     "metadata": {},
     "output_type": "display_data"
    },
    {
     "data": {
      "image/png": "[encoded data removed]",
      "text/plain": [
       "<Figure size 1200x600 with 1 Axes>"
      ]
     },
     "metadata": {},
     "output_type": "display_data"
    }
   ],
   "source": [
    "import matplotlib.pyplot as plt\n",
    "import seaborn as sns\n",
    "\n",
    "def plot_and_save_loss_and_scores(loss_values, validation_loss_values, precision_scores, recall_scores, f1_scores):\n",
    "    \"\"\"plot loss values / validation loss values and precision, recall, f1 scores in a plot each.\n",
    "    Save the plots in the local directory\n",
    "    \n",
    "    Args:\n",
    "        loss_values (list): Description\n",
    "        validation_loss_values (list): Description\n",
    "        precision_scores (list): Description\n",
    "        recall_scores (list): Description\n",
    "        f1_scores (list): Description\n",
    "    \"\"\"\n",
    "    # ========================================\n",
    "    #           general parameters\n",
    "    # ========================================\n",
    "\n",
    "    # Use plot styling from seaborn.\n",
    "    sns.set(style='darkgrid')\n",
    "\n",
    "    # Increase font size.\n",
    "    sns.set(font_scale=1.5)\n",
    "\n",
    "    # axes style\n",
    "    sns.axes_style(style='ticks')\n",
    "\n",
    "    # Increase plot size\n",
    "    plt.rcParams[\"figure.figsize\"] = (12,6) \n",
    "\n",
    "    # ========================================\n",
    "    #               First plot\n",
    "    # ========================================\n",
    "\n",
    "    plt.figure(1)\n",
    "    plt.xticks(np.arange(0, len(loss_values), step = 1))\n",
    "\n",
    "    # Plot training loss and validation loss over the epochs.\n",
    "    plt.plot(loss_values, 'b-o', label=\"Training loss\", clip_on=False, zorder=100) # the higher the zorder the more an element is \"pushed\" to the foreground\n",
    "    plt.plot(validation_loss_values, 'r-o', label=\"Validation loss\", clip_on=False, zorder=100)\n",
    "\n",
    "    # Title of the first plot.\n",
    "    plt.title(label='Learning Curve of the Model',\n",
    "              fontsize=20,\n",
    "              fontweight='bold',\n",
    "              pad=20)\n",
    "\n",
    "    # label of the x/y axis\n",
    "    plt.xlabel(\"Epoch\")\n",
    "    plt.ylabel(\"Loss\") \n",
    "\n",
    "    # minimum and maximum value for x and y axis\n",
    "    plt.xlim([0,len(loss_values) - 1])\n",
    "    plt.ylim(ymin=0)\n",
    "\n",
    "    # show the legend\n",
    "    plt.legend()\n",
    "\n",
    "    # save the plot to the speicified path\n",
    "    plt.savefig('graphics\\\\loss.svg', bbox_inches='tight')\n",
    "\n",
    "    # ========================================\n",
    "    #               Second plot\n",
    "    # ========================================\n",
    "\n",
    "    micros = [p[1] for p in f1_scores]\n",
    "    precision_scores = [p[0] for p in precision_scores]\n",
    "    recall_scores = [p[0] for p in recall_scores]\n",
    "    f1_scores = [p[0] for p in f1_scores]\n",
    "    \n",
    "    plt.figure(2)\n",
    "    plt.xticks(np.arange(0, len(f1_scores), step = 1))\n",
    "    plt.yticks(np.arange(0, 1.1, step = 0.1), (0, 0.1, 0.2, 0.3, 0.4, 0.5, 0.6, 0.7, 0.8, 0.9, 1))\n",
    "\n",
    "    # Plot precision, recall and f1 scores over the epochs\n",
    "    plt.plot(precision_scores, 'b-o', label=\"Precision scores\", clip_on=False, zorder=100)\n",
    "    plt.plot(recall_scores, 'g-o', label=\"Recall scores\", clip_on=False, zorder=100)\n",
    "    plt.plot(f1_scores, 'r-o', label=\"F1 scores\", clip_on=False, zorder=100)\n",
    "    plt.plot(micros, 'y-o', label=\"Micro-scores\", clip_on=False, zorder=100)\n",
    "\n",
    "    # Title of second plot.\n",
    "    plt.title(label='Precision, Recall and F1 Macro-Scores and Overall Micro-Score',\n",
    "              fontsize=20,\n",
    "              fontweight='bold',\n",
    "              pad=20) # for each epoch in the validation phase\n",
    "\n",
    "    # label of the x/y axis\n",
    "    plt.xlabel(\"Epoch\")\n",
    "    plt.ylabel(\"Score\") \n",
    "\n",
    "    # minimum and maximum value for x and y axis\n",
    "    plt.xlim([0,len(precision_scores) - 1])\n",
    "    plt.ylim([0,1])\n",
    "\n",
    "    # show the legend\n",
    "    plt.legend()\n",
    "\n",
    "    # save the plot to the speicified path\n",
    "    plt.savefig('graphics\\\\scores.svg', bbox_inches='tight') \n",
    "\n",
    "    # plt.show()\n",
    "\n",
    "plot_and_save_loss_and_scores(loss_values, validation_loss_values, precision_scores, recall_scores, f1_scores)"
   ]
  },
  {
   "cell_type": "markdown",
   "id": "23ef2fb2",
   "metadata": {},
   "source": [
    "### get testing dataloader (external python script handles this)"
   ]
  },
  {
   "cell_type": "code",
   "execution_count": 10,
   "id": "fcbd940e",
   "metadata": {},
   "outputs": [
    {
     "name": "stdout",
     "output_type": "stream",
     "text": [
      "{'O': 16546, 'B-Term': 348, 'I-Term': 487, 'B-Definition': 312, 'I-Definition': 4184, 'B-Secondary-Definition': 18, 'I-Secondary-Definition': 303, 'B-Alias-Term': 40, 'B-Referential-Term': 5, 'B-Referential-Definition': 16, 'I-Referential-Definition': 44, 'I-Alias-Term': 32, 'B-Qualifier': 1, 'I-Qualifier': 3, 'B-Definition-frag': 3, 'I-Definition-frag': 52, 'I-Referential-Term': 9, 'B-Ordered-Term': 1, 'I-Ordered-Term': 2, 'B-Ordered-Definition': 1, 'I-Ordered-Definition': 10}\n",
      "\n",
      "Total sentences:  1189\n",
      "Total labels:  22417\n",
      "\n",
      "Following tags and their corresponding IDs will be used:  {'B-Alias-Term': 0, 'B-Alias-Term-frag': 1, 'B-Definition': 2, 'B-Definition-frag': 3, 'B-Ordered-Definition': 4, 'B-Ordered-Term': 5, 'B-Qualifier': 6, 'B-Referential-Definition': 7, 'B-Referential-Term': 8, 'B-Secondary-Definition': 9, 'B-Term': 10, 'B-Term-frag': 11, 'I-Alias-Term': 12, 'I-Definition': 13, 'I-Definition-frag': 14, 'I-Ordered-Definition': 15, 'I-Ordered-Term': 16, 'I-Qualifier': 17, 'I-Referential-Definition': 18, 'I-Referential-Term': 19, 'I-Secondary-Definition': 20, 'I-Term': 21, 'I-Term-frag': 22, 'O': 23, 'PAD': 24} \n",
      "\n"
     ]
    }
   ],
   "source": [
    "from get_dataloader import get_dataloader\n",
    "test_dataloader, _, _ = get_dataloader(config.test_path, \n",
    "                                                      data_kind=\"test\", \n",
    "                                                      tag_values=tag_values,\n",
    "                                                      bert_model=config.bert_model, \n",
    "                                                      dev=config.dev, \n",
    "                                                      sequence_length=config.sequence_length, \n",
    "                                                      batch_size=config.batch_size)"
   ]
  },
  {
   "cell_type": "markdown",
   "id": "fc0cf348",
   "metadata": {},
   "source": [
    "### (if necessary) load a model checkpoint"
   ]
  },
  {
   "cell_type": "code",
   "execution_count": 11,
   "id": "8fb01fd7",
   "metadata": {},
   "outputs": [],
   "source": [
    "# IMPORTANT: before loading checkpoint, all config specifications must be the same as the model was trained beforehand. \n",
    "# This can be checked out through the config object in the saved checkpoint\n",
    "def load_checkpoint(path, model=None, optimizer=None, scheduler=None):\n",
    "    \"\"\"method for loading a checkpoint of model training\n",
    "    \n",
    "    Args:\n",
    "        model (TYPE): initialised model \n",
    "        optimizer (TYPE): initialised optimizer\n",
    "        scheduler (TYPE): initialised scheduler\n",
    "        path (string): path to trained checkpoint\n",
    "    \n",
    "    Returns:\n",
    "        epoch (int), tag_values (list), loss_values (list), validation_loss_values (list):\n",
    "        returns the epoch of the checkpoint, used tag_values during training,\n",
    "        collected loss values and validation loss values\n",
    "    \"\"\"\n",
    "    checkpoint = torch.load(path)\n",
    "    epoch = checkpoint['epoch']\n",
    "    if model is not None:\n",
    "        model.load_state_dict(checkpoint['state_dict'])\n",
    "    if optimizer is not None:\n",
    "        optimizer.load_state_dict(checkpoint['optimizer'])\n",
    "    if scheduler is not None:\n",
    "        scheduler.load_state_dict(checkpoint['scheduler'])\n",
    "    tag_values = checkpoint['tag_values'] \n",
    "    loss_values = checkpoint['loss_values']\n",
    "    validation_loss_values = checkpoint['validation_loss_values']\n",
    "    precision_scores = checkpoint['precision_scores']\n",
    "    recall_scores = checkpoint['recall_scores']\n",
    "    f1_scores = checkpoint['f1_scores']\n",
    "\n",
    "    if \"config\" in checkpoint:\n",
    "        config_obj = checkpoint['config']\n",
    "        return epoch, tag_values, loss_values, validation_loss_values, precision_scores, recall_scores, f1_scores, config_obj\n",
    "    else:\n",
    "        return epoch, tag_values, loss_values, validation_loss_values, precision_scores, recall_scores, f1_scores\n",
    "    \n",
    "checkpoint = load_checkpoint('C:/Users/Hasan/Desktop/Barcelona_Data/FIB_Courses/HLE/Project/code_repo/HLE_Project/model_checkpoints/scibert-cased-crf-augmented/checkpoint_scibert_augmentation_4.pt', model, optimizer, scheduler) # \"model_checkpoints/scibert-cased-crf/checkpoint_scibert_4.pt\" 'C:/Users/Hasan/Desktop/Barcelona_Data/FIB_Courses/HLE/Project/code_repo/HLE_Project/model_checkpoints/scibert-cased-crf-augmented/checkpoint_scibert_augmentation_4.pt'"
   ]
  },
  {
   "cell_type": "markdown",
   "id": "004d767c",
   "metadata": {},
   "source": [
    "### apply the model on the test set and print a classification report containing the relevant scores"
   ]
  },
  {
   "cell_type": "code",
   "execution_count": 12,
   "id": "aa30411e",
   "metadata": {},
   "outputs": [
    {
     "name": "stderr",
     "output_type": "stream",
     "text": [
      "C:\\Users\\Hasan\\anaconda3\\envs\\pytorch-nlp\\lib\\site-packages\\torchcrf\\__init__.py:305: UserWarning: where received a uint8 condition tensor. This behavior is deprecated and will be removed in a future version of PyTorch. Use a boolean condition instead. (Triggered internally at C:\\cb\\pytorch_1000000000000\\work\\aten\\src\\ATen\\native\\TensorCompare.cpp:413.)\n",
      "  score = torch.where(mask[i].unsqueeze(1), next_score, score)\n",
      "C:\\Users\\Hasan\\AppData\\Local\\Temp\\ipykernel_19832\\216032391.py:71: UserWarning: indexing with dtype torch.uint8 is now deprecated, please use a dtype torch.bool instead. (Triggered internally at C:\\cb\\pytorch_1000000000000\\work\\aten\\src\\ATen/native/IndexingUtils.h:28.)\n",
      "  new_tensor.append(torch.masked_select(input_tensor[i], mask[i]).tolist())\n"
     ]
    },
    {
     "name": "stdout",
     "output_type": "stream",
     "text": [
      "Test Precision: [0.5174482029987, 0.7519176800748363]\n",
      "Test Recall: [0.5085569332672744, 0.7272891784292436]\n",
      "Test F1-Score: [0.5075962438565269, 0.7393983994112777]\n",
      "Classification_report: \n",
      " {'B-Term': {'precision': 0.7492625368731564, 'recall': 0.7298850574712644, 'f1-score': 0.7394468704512374, 'support': 348}, 'I-Term': {'precision': 0.7137014314928425, 'recall': 0.7022132796780685, 'f1-score': 0.7079107505070994, 'support': 497}, 'B-Definition': {'precision': 0.6515679442508711, 'recall': 0.5993589743589743, 'f1-score': 0.6243739565943239, 'support': 312}, 'I-Definition': {'precision': 0.7677088422081094, 'recall': 0.7449632614363594, 'f1-score': 0.7561650427041983, 'support': 4219}, 'B-Alias-Term': {'precision': 0.7333333333333333, 'recall': 0.55, 'f1-score': 0.6285714285714286, 'support': 40}, 'I-Alias-Term': {'precision': 0.24, 'recall': 0.1875, 'f1-score': 0.21052631578947367, 'support': 32}, 'B-Referential-Definition': {'precision': 0.8125, 'recall': 0.8125, 'f1-score': 0.8125, 'support': 16}, 'I-Referential-Definition': {'precision': 0.8913043478260869, 'recall': 0.9318181818181818, 'f1-score': 0.9111111111111111, 'support': 44}, 'B-Referential-Term': {'precision': 0.25, 'recall': 0.4, 'f1-score': 0.3076923076923077, 'support': 5}, 'I-Referential-Term': {'precision': 0.2, 'recall': 0.1111111111111111, 'f1-score': 0.14285714285714285, 'support': 9}, 'B-Qualifier': {'precision': 0.0, 'recall': 0.0, 'f1-score': 0.0, 'support': 1}, 'I-Qualifier': {'precision': 0.2, 'recall': 0.3333333333333333, 'f1-score': 0.25, 'support': 3}, 'micro avg': {'precision': 0.7519176800748363, 'recall': 0.7272891784292436, 'f1-score': 0.7393983994112777, 'support': 5526}, 'macro avg': {'precision': 0.5174482029987, 'recall': 0.5085569332672744, 'f1-score': 0.5075962438565269, 'support': 5526}, 'weighted avg': {'precision': 0.7511014301128789, 'recall': 0.7272891784292437, 'f1-score': 0.7388286115647277, 'support': 5526}} \n",
      "\n",
      "TESTING ACCOMPLISHED ! \n",
      "\n",
      "whole Testing time: 0.001618278423945109 hours\n"
     ]
    }
   ],
   "source": [
    "# apply model to test set\n",
    "def test(model, test_dataloader, tag_values, tag2idx):\n",
    "    \"\"\"testing of the BERT model (BERT + BertForTokenClasssification or BERT + CRF)\n",
    "    based on a test set.\n",
    "\n",
    "    Args:\n",
    "        model (TYPE): Description\n",
    "        test_dataloader (TYPE): Description\n",
    "        tag_values (TYPE): Description\n",
    "        tag2idx (TYPE): Description\n",
    "    \n",
    "    Returns:\n",
    "        TYPE: Description\n",
    "    \"\"\"\n",
    "    # for time measurement\n",
    "    startTime = time.time()\n",
    "\n",
    "    # put the model in eval-mode, no parameters are optimized in testing phase\n",
    "    model.eval()\n",
    "\n",
    "    eval_loss = 0\n",
    "    predictions, true_labels = [], []\n",
    "    for batch_number, batch in enumerate(test_dataloader):\n",
    "        batch = tuple(t.to(device) for t in batch)\n",
    "        b_input_ids, b_input_mask, b_labels, b_filter_mask = batch\n",
    "        if config.use_crf:\n",
    "            # Telling the model not to compute or store gradients,\n",
    "            # saving memory and speeding up validation\n",
    "            with torch.no_grad():   \n",
    "                # This will return the predictions rather than the loss because we have not provided labels.\n",
    "                logits = model(b_input_ids,\n",
    "                               token_type_ids=None,\n",
    "                               attention_mask = b_input_mask)\n",
    "\n",
    "            # # filter to relevant logits\n",
    "            masked_logits = apply_masked_select(pad_and_tensor_logits(logits, tag2idx), b_filter_mask)\n",
    "\n",
    "            # filter to relevant labels\n",
    "            masked_b_labels = apply_masked_select(b_labels, b_filter_mask)\n",
    "\n",
    "            predictions.extend(masked_logits) \n",
    "            true_labels.extend(masked_b_labels)\n",
    "\n",
    "            assert len(predictions) == len(true_labels) and len(masked_logits) == len(masked_b_labels), \"Please check if the length of predictions and that of true labels are identical.\"\n",
    "        else:\n",
    "            # Telling the model not to compute or store gradients,\n",
    "            # saving memory and speeding up validation\n",
    "            with torch.no_grad():\n",
    "                # Forward pass, calculate logit predictions and validation loss.   \n",
    "                # This will return the TokenClassifierOutput as in training (see documentation BertForTokenClassification).\n",
    "                outputs = model(b_input_ids, \n",
    "                             token_type_ids=None,\n",
    "                             attention_mask=b_input_mask,\n",
    "                             labels=b_labels) # token_type_ids=None,\n",
    "\n",
    "            # Move logits and labels to CPU\n",
    "            logits = outputs[1].detach().cpu().numpy()\n",
    "            label_ids = b_labels.to('cpu').numpy()\n",
    "\n",
    "            # get the evaluation loss.\n",
    "            eval_loss += outputs[0].mean().item()\n",
    "            # get the labels by taking the argmax of the softmax output and put it into predictions\n",
    "            predicted_labels = [list(p) for p in np.argmax(logits, axis=2)]\n",
    "            predictions.extend(predicted_labels) #\n",
    "            # add the true labels to true_labels for comparing with predictions \n",
    "            true_labels.extend(label_ids) \n",
    "        \n",
    "        \n",
    "    result_precision_score, result_recall_score, result_f1_score, result_classification_report = calculate_relevant_metrics(true_labels, predictions, tag2idx)\n",
    "\n",
    "    print(\"Test Precision: {}\".format(result_precision_score))\n",
    "    print(\"Test Recall: {}\".format(result_recall_score))\n",
    "    print(\"Test F1-Score: {}\".format(result_f1_score))\n",
    "    \n",
    "    print(\"Classification_report: \\n {} \\n\".format(result_classification_report))\n",
    "\n",
    "    print(\"TESTING ACCOMPLISHED ! \\n\")\n",
    "\n",
    "    endTime = time.time() - startTime\n",
    "    print(f'whole Testing time: {endTime / 3600} hours')\n",
    "\n",
    "    return result_precision_score, result_recall_score, result_f1_score, result_classification_report\n",
    "\n",
    "# test the model\n",
    "evaluation = test(model, test_dataloader, tag_values, tag2idx)"
   ]
  },
  {
   "cell_type": "markdown",
   "id": "92ece233",
   "metadata": {},
   "source": [
    "## Error Analysis of SciBERT+CRF (best model): the following section analyzes the model with respect to its errors"
   ]
  },
  {
   "cell_type": "markdown",
   "id": "f5795186",
   "metadata": {},
   "source": [
    "### first a confusion matrix is created"
   ]
  },
  {
   "cell_type": "code",
   "execution_count": 13,
   "id": "f73c6e61",
   "metadata": {},
   "outputs": [],
   "source": [
    "from sklearn.metrics import confusion_matrix\n",
    "import matplotlib.pyplot as plt\n",
    "from scikitplot import metrics\n",
    "\n",
    "def calculate_confusion_matrix(y_true: list, y_pred: list, tag2idx: dict):\n",
    "    \"\"\"The classification metrics precision, recall and f1-score are calculated and returned.\n",
    "    If wanted a classification report can be returned. It contains the above mentioned metrics\n",
    "    for all labels.\n",
    "    \n",
    "    Args:\n",
    "        y_true (list): Description\n",
    "        y_pred (list): Description\n",
    "        tag_values (list): Description\n",
    "        report_wanted (bool, optional): Description\n",
    "    \n",
    "    Returns:\n",
    "        TYPE: Description\n",
    "    \"\"\"\n",
    "    \n",
    "    y_true = [item for sublist in y_true for item in sublist]\n",
    "    y_pred = [item for sublist in y_pred for item in sublist]\n",
    "    \n",
    "    relevant_labels_for_evaluation = [tag2idx['O'], tag2idx['B-Term'], tag2idx['I-Term'], tag2idx['B-Definition'], tag2idx['I-Definition'], tag2idx['B-Alias-Term'], tag2idx['I-Alias-Term'], tag2idx['B-Referential-Definition'], tag2idx['I-Referential-Definition'], tag2idx['B-Referential-Term'], tag2idx['I-Referential-Term'], tag2idx['B-Qualifier'], tag2idx['I-Qualifier']]\n",
    "    target_names = ['O', 'B-Term', 'I-Term', 'B-Definition', 'I-Definition', 'B-Alias-Term', 'I-Alias-Term', 'B-Ref.-Def.', 'I-Ref.-Def.', 'B-Ref.-Term', 'I-Ref.-Term', 'B-Qualifier', 'I-Qualifier']\n",
    "    \n",
    "    # make copy of tag2idx\n",
    "    new_tag2idx = dict(tag2idx)\n",
    "    new_tag2idx['B-Ref.-Def.'] = new_tag2idx.pop('B-Referential-Definition')\n",
    "    new_tag2idx['I-Ref.-Def.'] = new_tag2idx.pop('I-Referential-Definition')\n",
    "    new_tag2idx['B-Ref.-Term'] = new_tag2idx.pop('B-Referential-Term')\n",
    "    new_tag2idx['I-Ref.-Term'] = new_tag2idx.pop('I-Referential-Term')\n",
    "    \n",
    "    # inverse of tag2idx\n",
    "    inv_tag2idx = {v: k for k, v in new_tag2idx.items()}\n",
    "    y_true_transformed = [inv_tag2idx[i] for i in y_true]\n",
    "    y_pred_transformed = [inv_tag2idx[i] for i in y_pred]\n",
    "    \n",
    "    metrics.plot_confusion_matrix(y_true_transformed, y_pred_transformed, labels=target_names, title=None, normalize=True, hide_zeros=True, hide_counts=False, x_tick_rotation=-90, ax=None, figsize=None, cmap='Blues', title_fontsize='large', text_fontsize='medium')\n",
    "    \n",
    "    return y_true, y_pred, confusion_matrix(y_true, y_pred, labels=relevant_labels_for_evaluation)"
   ]
  },
  {
   "cell_type": "code",
   "execution_count": 14,
   "id": "4ca0610d",
   "metadata": {
    "scrolled": false
   },
   "outputs": [
    {
     "name": "stdout",
     "output_type": "stream",
     "text": [
      "Length of test dataloader:  4\n"
     ]
    },
    {
     "name": "stderr",
     "output_type": "stream",
     "text": [
      "C:\\Users\\Hasan\\AppData\\Local\\Temp\\ipykernel_19832\\216032391.py:71: UserWarning: indexing with dtype torch.uint8 is now deprecated, please use a dtype torch.bool instead. (Triggered internally at C:\\cb\\pytorch_1000000000000\\work\\aten\\src\\ATen/native/IndexingUtils.h:28.)\n",
      "  new_tensor.append(torch.masked_select(input_tensor[i], mask[i]).tolist())\n"
     ]
    },
    {
     "data": {
      "image/png": "[encoded data removed]",
      "text/plain": [
       "<Figure size 640x480 with 2 Axes>"
      ]
     },
     "metadata": {},
     "output_type": "display_data"
    }
   ],
   "source": [
    "# make confusion matrix\n",
    "def error_analysis(model, test_dataloader, tag_values, tag2idx):\n",
    "\n",
    "    # put the model in eval-mode, no parameters are optimized in testing phase\n",
    "    model.eval()\n",
    "\n",
    "    eval_loss = 0\n",
    "    predictions, true_labels = [], []\n",
    "    \n",
    "    print(\"Length of test dataloader: \", len(test_dataloader))\n",
    "    for batch_number, batch in enumerate(test_dataloader):\n",
    "        batch = tuple(t.to(device) for t in batch)\n",
    "        b_input_ids, b_input_mask, b_labels, b_filter_mask = batch\n",
    "        \n",
    "        # Telling the model not to compute or store gradients,\n",
    "        # saving memory and speeding up validation\n",
    "        with torch.no_grad():   \n",
    "            # This will return the predictions rather than the loss because we have not provided labels.\n",
    "            logits = model(b_input_ids,\n",
    "                           token_type_ids=None,\n",
    "                           attention_mask = b_input_mask)\n",
    "\n",
    "        # filter to relevant logits\n",
    "        masked_logits = apply_masked_select(pad_and_tensor_logits(logits, tag2idx), b_filter_mask)\n",
    "\n",
    "        # filter to relevant labels\n",
    "        masked_b_labels = apply_masked_select(b_labels, b_filter_mask)\n",
    "\n",
    "        predictions.extend(masked_logits) \n",
    "        true_labels.extend(masked_b_labels)\n",
    "\n",
    "        assert len(predictions) == len(true_labels) and len(masked_logits) == len(masked_b_labels), \"Please check if the length of predictions and that of true labels are identical.\"\n",
    "        \n",
    "    conf_matrix = calculate_confusion_matrix(true_labels, predictions, tag2idx)\n",
    "        \n",
    "    return conf_matrix\n",
    "\n",
    "# get confusion matrix\n",
    "y_true, y_pred, cm = error_analysis(model, test_dataloader, tag_values, tag2idx)"
   ]
  },
  {
   "cell_type": "markdown",
   "id": "9bdf910a",
   "metadata": {},
   "source": [
    "### manually selecting interesting examples of model missclassifications"
   ]
  },
  {
   "cell_type": "code",
   "execution_count": 37,
   "id": "c21d3b7a",
   "metadata": {},
   "outputs": [],
   "source": [
    "# make error analysis\n",
    "def get_all_logits(model, test_dataloader):\n",
    "\n",
    "    # put the model in eval-mode, no parameters are optimized in testing phase\n",
    "    model.eval()\n",
    "\n",
    "    all_logits = []\n",
    "    \n",
    "    print(\"Length of test dataloader: \", len(test_dataloader))\n",
    "    for batch_number, batch in enumerate(test_dataloader):\n",
    "        batch = tuple(t.to(device) for t in batch)\n",
    "        b_input_ids, b_input_mask, b_labels, b_filter_mask = batch\n",
    "        \n",
    "        # Telling the model not to compute or store gradients,\n",
    "        # saving memory and speeding up validation\n",
    "        with torch.no_grad():   \n",
    "            # This will return the predictions rather than the loss because we have not provided labels.\n",
    "            logits = model(b_input_ids,\n",
    "                           token_type_ids=None,\n",
    "                           attention_mask = b_input_mask)\n",
    "        #print(len(logits))\n",
    "        all_logits.append(logits)\n",
    "  \n",
    "    return all_logits"
   ]
  },
  {
   "cell_type": "code",
   "execution_count": 38,
   "id": "23872a1a",
   "metadata": {},
   "outputs": [
    {
     "name": "stdout",
     "output_type": "stream",
     "text": [
      "Length of test dataloader:  4\n"
     ]
    }
   ],
   "source": [
    "all_logits = get_all_logits(model, test_dataloader)"
   ]
  },
  {
   "cell_type": "code",
   "execution_count": 72,
   "id": "3410bf23",
   "metadata": {
    "scrolled": true
   },
   "outputs": [
    {
     "name": "stderr",
     "output_type": "stream",
     "text": [
      "C:\\Users\\Hasan\\AppData\\Local\\Temp\\ipykernel_19832\\2087569231.py:24: UserWarning: masked_select received a mask with dtype torch.uint8, this behavior is now deprecated,please use a mask with dtype torch.bool instead. (Triggered internally at C:\\cb\\pytorch_1000000000000\\work\\aten\\src\\ATen\\native\\TensorAdvancedIndexing.cpp:1730.)\n",
      "  input_ids = torch.masked_select(input_ids, input_mask)\n",
      "C:\\Users\\Hasan\\AppData\\Local\\Temp\\ipykernel_19832\\2087569231.py:25: UserWarning: masked_select received a mask with dtype torch.uint8, this behavior is now deprecated,please use a mask with dtype torch.bool instead. (Triggered internally at C:\\cb\\pytorch_1000000000000\\work\\aten\\src\\ATen\\native\\TensorAdvancedIndexing.cpp:1730.)\n",
      "  labels = torch.masked_select(labels, input_mask)\n"
     ]
    }
   ],
   "source": [
    "import numpy\n",
    "\n",
    "all_batches = []\n",
    "for batch_number, batch in enumerate(test_dataloader):\n",
    "    batch = tuple(t.to('cpu') for t in batch)\n",
    "    all_batches.append(batch)\n",
    "\n",
    "needed_tensor = []\n",
    "\n",
    "# search in true label\n",
    "search_id = tag2idx['B-Referential-Definition'] # B-Referential-Definition / I-Alias-Term\n",
    "# search in classifications\n",
    "lookup_id = tag2idx['B-Definition'] # B-Definition / I-Term\n",
    "\n",
    "# go through all batches of size 4 or 5\n",
    "for index, b in enumerate(all_batches):\n",
    "    # assign to variables\n",
    "    b_input_ids, b_input_mask, b_labels, b_filter_mask = b\n",
    "    # print(len(b_input_ids))\n",
    "    \n",
    "    # go through one batch of size 16\n",
    "    for i in range(len(b_input_ids)):\n",
    "        input_ids, input_mask, labels, filter_mask = b_input_ids[i], b_input_mask[i], b_labels[i], b_filter_mask[i]\n",
    "        input_ids = torch.masked_select(input_ids, input_mask)\n",
    "        labels = torch.masked_select(labels, input_mask)\n",
    "        #print(len(input_ids))\n",
    "        #if search_id in labels:\n",
    "            #print(\"Found searched label in true labels\")\n",
    "        \n",
    "        #go through one \n",
    "        for lab_index, lab in enumerate(labels):\n",
    "            if (search_id == lab):\n",
    "                #print(lab, all_logits[index][i][lab_index])\n",
    "                if (all_logits[index][i][lab_index] == lookup_id):\n",
    "                    needed_tensor.append((index, i, lab_index))"
   ]
  },
  {
   "cell_type": "code",
   "execution_count": 73,
   "id": "255ee600",
   "metadata": {},
   "outputs": [
    {
     "data": {
      "text/plain": [
       "[(1, 4, 312), (1, 4, 325)]"
      ]
     },
     "execution_count": 73,
     "metadata": {},
     "output_type": "execute_result"
    }
   ],
   "source": [
    "needed_tensor"
   ]
  },
  {
   "cell_type": "code",
   "execution_count": 19,
   "id": "03ea02b8",
   "metadata": {},
   "outputs": [],
   "source": [
    "from transformers import BertTokenizer\n",
    "tokenizer = BertTokenizer.from_pretrained(config.bert_model, do_lower_case=False)"
   ]
  },
  {
   "cell_type": "code",
   "execution_count": 74,
   "id": "3a4b9e5b",
   "metadata": {},
   "outputs": [
    {
     "name": "stderr",
     "output_type": "stream",
     "text": [
      "C:\\Users\\Hasan\\AppData\\Local\\Temp\\ipykernel_19832\\3268713975.py:6: UserWarning: masked_select received a mask with dtype torch.uint8, this behavior is now deprecated,please use a mask with dtype torch.bool instead. (Triggered internally at C:\\cb\\pytorch_1000000000000\\work\\aten\\src\\ATen\\native\\TensorAdvancedIndexing.cpp:1730.)\n",
      "  input_ids_filtered = torch.masked_select(input_ids[needed_batch_number], input_mask[needed_batch_number])\n",
      "C:\\Users\\Hasan\\AppData\\Local\\Temp\\ipykernel_19832\\3268713975.py:7: UserWarning: masked_select received a mask with dtype torch.uint8, this behavior is now deprecated,please use a mask with dtype torch.bool instead. (Triggered internally at C:\\cb\\pytorch_1000000000000\\work\\aten\\src\\ATen\\native\\TensorAdvancedIndexing.cpp:1730.)\n",
      "  labels_filtered = torch.masked_select(labels[needed_batch_number], input_mask[needed_batch_number])\n"
     ]
    }
   ],
   "source": [
    "input_ids, input_mask, labels, filter_mask = all_batches[1] # 0 / 1\n",
    "classified_labels = all_logits[1] # 0 / 1\n",
    "\n",
    "needed_batch_number = 4 # 7 / 4\n",
    "\n",
    "input_ids_filtered = torch.masked_select(input_ids[needed_batch_number], input_mask[needed_batch_number])\n",
    "labels_filtered = torch.masked_select(labels[needed_batch_number], input_mask[needed_batch_number])\n",
    "classified_labels_filtered = classified_labels[needed_batch_number]"
   ]
  },
  {
   "cell_type": "code",
   "execution_count": 75,
   "id": "e97a14b5",
   "metadata": {},
   "outputs": [
    {
     "name": "stdout",
     "output_type": "stream",
     "text": [
      "I-Definition\t\t\tin\n",
      "I-Definition\t\t\tthe\n",
      "I-Definition\t\t\tnuclei\n",
      "I-Definition\t\t\tof\n",
      "I-Definition\t\t\tthe\n",
      "I-Definition\t\t\tatoms\n",
      "I-Definition\t\t\tand\n",
      "I-Definition\t\t\thave\n",
      "I-Definition\t\t\tother\n",
      "I-Definition\t\t\tunique\n",
      "I-Definition\t\t\tcharacteristics\n",
      "O\t\t\t.\n",
      "B-Referential-Definition\t\t\tThe\n",
      "I-Referential-Definition\t\t\temission\n",
      "I-Referential-Definition\t\t\tof\n",
      "I-Referential-Definition\t\t\tthese\n",
      "I-Referential-Definition\t\t\trays\n",
      "O\t\t\tis\n",
      "O\t\t\tcalled\n",
      "B-Term\t\t\tnuclear\n",
      "I-Term\t\t\tradioactivity\n",
      "O\t\t\tor\n",
      "O\t\t\tsimply\n",
      "B-Alias-Term\t\t\tradioactivity\n",
      "O\t\t\t.\n",
      "B-Referential-Definition\t\t\tThe\n",
      "I-Referential-Definition\t\t\temission\n",
      "I-Referential-Definition\t\t\tof\n",
      "I-Referential-Definition\t\t\tthese\n",
      "I-Referential-Definition\t\t\trays\n"
     ]
    }
   ],
   "source": [
    "tokens = tokenizer.convert_ids_to_tokens(input_ids_filtered.numpy())\n",
    "for token, label in zip(tokens[300:330], labels_filtered[300:330]): # 270:303 / 300:330\n",
    "    print(\"{}\\t\\t\\t{}\".format(tag_values[label], token))"
   ]
  },
  {
   "cell_type": "code",
   "execution_count": 76,
   "id": "7adfbe95",
   "metadata": {},
   "outputs": [
    {
     "name": "stdout",
     "output_type": "stream",
     "text": [
      "O\t\t\tin\n",
      "O\t\t\tthe\n",
      "O\t\t\tnuclei\n",
      "O\t\t\tof\n",
      "O\t\t\tthe\n",
      "O\t\t\tatoms\n",
      "O\t\t\tand\n",
      "O\t\t\thave\n",
      "O\t\t\tother\n",
      "O\t\t\tunique\n",
      "O\t\t\tcharacteristics\n",
      "O\t\t\t.\n",
      "B-Definition\t\t\tThe\n",
      "I-Referential-Definition\t\t\temission\n",
      "I-Referential-Definition\t\t\tof\n",
      "O\t\t\tthese\n",
      "I-Referential-Definition\t\t\trays\n",
      "O\t\t\tis\n",
      "O\t\t\tcalled\n",
      "B-Term\t\t\tnuclear\n",
      "I-Term\t\t\tradioactivity\n",
      "O\t\t\tor\n",
      "O\t\t\tsimply\n",
      "I-Term\t\t\tradioactivity\n",
      "O\t\t\t.\n",
      "B-Definition\t\t\tThe\n",
      "I-Referential-Definition\t\t\temission\n",
      "I-Referential-Definition\t\t\tof\n",
      "I-Referential-Definition\t\t\tthese\n",
      "I-Referential-Definition\t\t\trays\n"
     ]
    }
   ],
   "source": [
    "tokens = tokenizer.convert_ids_to_tokens(input_ids_filtered.numpy())\n",
    "for token, label in zip(tokens[300:330], classified_labels_filtered[300:330]): # 270:303 / 300:330\n",
    "    print(\"{}\\t\\t\\t{}\".format(tag_values[label], token))"
   ]
  },
  {
   "cell_type": "markdown",
   "id": "1fa6ebc7",
   "metadata": {},
   "source": [
    "### if sub tokens should already be merged to full words"
   ]
  },
  {
   "cell_type": "code",
   "execution_count": 52,
   "id": "9fec94e7",
   "metadata": {},
   "outputs": [],
   "source": [
    "tokens = tokenizer.convert_ids_to_tokens(input_ids_filtered.numpy())\n",
    "new_tokens, new_labels = [], []\n",
    "for token, label_idx in zip(tokens, labels_filtered):\n",
    "    if token.startswith(\"##\"):\n",
    "        new_tokens[-1] = new_tokens[-1] + token[2:]\n",
    "    else:\n",
    "        new_labels.append(tag_values[label_idx])\n",
    "        new_tokens.append(token)"
   ]
  },
  {
   "cell_type": "code",
   "execution_count": 36,
   "id": "7d1b6c27",
   "metadata": {},
   "outputs": [
    {
     "name": "stdout",
     "output_type": "stream",
     "text": [
      "O\t\t\t2080\n",
      "O\t\t\t.\n",
      "O\t\t\tFor\n",
      "O\t\t\texample\n",
      "O\t\t\t,\n",
      "O\t\t\tin\n",
      "O\t\t\tthe\n",
      "O\t\t\tEnglish\n",
      "O\t\t\tChannel\n",
      "O\t\t\tecosystem\n",
      "O\t\t\tthe\n",
      "O\t\t\tprimary\n",
      "O\t\t\tproducers\n",
      "O\t\t\taccount\n",
      "O\t\t\tfor\n",
      "O\t\t\ta\n",
      "O\t\t\tbiomass\n",
      "O\t\t\tof\n",
      "O\t\t\t4\n",
      "O\t\t\tg\n",
      "O\t\t\t/\n",
      "O\t\t\tm2\n",
      "O\t\t\t(\n",
      "O\t\t\tgrams\n",
      "O\t\t\tper\n",
      "O\t\t\tmeter\n",
      "O\t\t\tsquared\n",
      "O\t\t\t)\n",
      "O\t\t\t,\n",
      "O\t\t\twhile\n",
      "O\t\t\tthe\n",
      "O\t\t\tprimary\n",
      "O\t\t\tconsumers\n",
      "O\t\t\texhibit\n",
      "O\t\t\ta\n",
      "O\t\t\tbiomass\n",
      "O\t\t\tof\n",
      "O\t\t\t21\n",
      "O\t\t\tg\n",
      "O\t\t\t/\n",
      "O\t\t\tm2\n",
      "O\t\t\t.\n",
      "O\t\t\tThe\n",
      "O\t\t\tproductivity\n",
      "O\t\t\tof\n",
      "O\t\t\tthe\n",
      "O\t\t\tprimary\n",
      "O\t\t\tproducers\n",
      "O\t\t\tis\n",
      "O\t\t\tespecially\n",
      "O\t\t\timportant\n",
      "O\t\t\tin\n",
      "O\t\t\tany\n",
      "O\t\t\tecosystem\n",
      "O\t\t\tbecause\n",
      "O\t\t\tthese\n",
      "O\t\t\torganisms\n",
      "O\t\t\tbring\n",
      "O\t\t\tenergy\n",
      "O\t\t\tto\n",
      "O\t\t\tother\n",
      "O\t\t\tliving\n",
      "O\t\t\torganisms\n",
      "O\t\t\tby\n",
      "O\t\t\tphotoautotrophy\n",
      "O\t\t\tor\n",
      "O\t\t\tchemoautotrophy\n",
      "O\t\t\t.\n",
      "B-Definition\t\t\tThe\n",
      "I-Definition\t\t\trate\n",
      "I-Definition\t\t\tat\n",
      "I-Definition\t\t\twhich\n",
      "I-Definition\t\t\tphotosynthetic\n",
      "I-Definition\t\t\tprimary\n",
      "I-Definition\t\t\tproducers\n",
      "I-Definition\t\t\tincorporate\n",
      "I-Definition\t\t\tenergy\n",
      "I-Definition\t\t\tfrom\n",
      "I-Definition\t\t\tthe\n",
      "I-Definition\t\t\tsun\n",
      "O\t\t\tis\n",
      "O\t\t\tcalled\n",
      "B-Term\t\t\tgross\n",
      "I-Term\t\t\tprimary\n",
      "I-Term\t\t\tproductivity\n",
      "O\t\t\t.\n",
      "O\t\t\tAn\n",
      "O\t\t\texample\n",
      "O\t\t\tof\n",
      "O\t\t\tgross\n",
      "O\t\t\tprimary\n",
      "O\t\t\tproductivity\n",
      "O\t\t\tis\n",
      "O\t\t\tshown\n",
      "O\t\t\tin\n",
      "O\t\t\tthe\n",
      "O\t\t\tcompartment\n",
      "O\t\t\tdiagram\n",
      "O\t\t\tof\n",
      "O\t\t\tenergy\n",
      "O\t\t\tflow\n",
      "O\t\t\twithin\n",
      "O\t\t\tthe\n",
      "O\t\t\tSilver\n",
      "O\t\t\tSprings\n",
      "O\t\t\taquatic\n",
      "O\t\t\tecosystem\n",
      "O\t\t\tas\n",
      "O\t\t\tshown\n",
      "O\t\t\t(\n",
      "O\t\t\t[\n",
      "O\t\t\tlink\n",
      "O\t\t\t]\n",
      "O\t\t\t)\n",
      "O\t\t\t.\n",
      "O\t\t\t15\n",
      "O\t\t\t.\n",
      "O\t\t\tWhile\n",
      "O\t\t\tresearch\n",
      "O\t\t\tefforts\n",
      "O\t\t\tin\n",
      "O\t\t\tboth\n",
      "O\t\t\tbasic\n",
      "O\t\t\tscience\n",
      "O\t\t\tand\n",
      "O\t\t\tapplied\n",
      "O\t\t\tscience\n",
      "O\t\t\tare\n",
      "O\t\t\tusually\n",
      "O\t\t\tcarefully\n",
      "O\t\t\tplanned\n",
      "O\t\t\t,\n",
      "O\t\t\tit\n",
      "O\t\t\tis\n",
      "O\t\t\timportant\n",
      "O\t\t\tto\n",
      "O\t\t\tnote\n",
      "O\t\t\tthat\n",
      "O\t\t\tsome\n",
      "O\t\t\tdiscoveries\n",
      "O\t\t\tare\n",
      "O\t\t\tmade\n",
      "O\t\t\tby\n",
      "B-Term\t\t\tserendipity\n",
      "O\t\t\t,\n",
      "O\t\t\tthat\n",
      "O\t\t\tis\n",
      "O\t\t\t,\n",
      "B-Definition\t\t\tby\n",
      "I-Definition\t\t\tmeans\n",
      "I-Definition\t\t\tof\n",
      "I-Definition\t\t\ta\n",
      "I-Definition\t\t\tfortunate\n",
      "I-Definition\t\t\taccident\n",
      "I-Definition\t\t\tor\n",
      "I-Definition\t\t\ta\n",
      "I-Definition\t\t\tlucky\n",
      "I-Definition\t\t\tsurprise\n",
      "O\t\t\t.\n",
      "O\t\t\t[SEP]\n"
     ]
    }
   ],
   "source": [
    "for token, label in zip(new_tokens[299:], new_labels[299:]):\n",
    "    print(\"{}\\t\\t\\t{}\".format(label, token))"
   ]
  },
  {
   "cell_type": "markdown",
   "id": "0ebe24e7",
   "metadata": {},
   "source": [
    "### formatting results (for report writing)"
   ]
  },
  {
   "cell_type": "code",
   "execution_count": 60,
   "id": "21faecc0",
   "metadata": {},
   "outputs": [],
   "source": [
    "best_results = {'B-Term': {'precision': 0.7492625368731564, 'recall': 0.7298850574712644, 'f1-score': 0.7394468704512374, 'support': 348}, 'I-Term': {'precision': 0.7137014314928425, 'recall': 0.7022132796780685, 'f1-score': 0.7079107505070994, 'support': 497}, 'B-Definition': {'precision': 0.6515679442508711, 'recall': 0.5993589743589743, 'f1-score': 0.6243739565943239, 'support': 312}, 'I-Definition': {'precision': 0.7677088422081094, 'recall': 0.7449632614363594, 'f1-score': 0.7561650427041983, 'support': 4219}, 'B-Alias-Term': {'precision': 0.7333333333333333, 'recall': 0.55, 'f1-score': 0.6285714285714286, 'support': 40}, 'I-Alias-Term': {'precision': 0.24, 'recall': 0.1875, 'f1-score': 0.21052631578947367, 'support': 32}, 'B-Referential-Definition': {'precision': 0.8125, 'recall': 0.8125, 'f1-score': 0.8125, 'support': 16}, 'I-Referential-Definition': {'precision': 0.8913043478260869, 'recall': 0.9318181818181818, 'f1-score': 0.9111111111111111, 'support': 44}, 'B-Referential-Term': {'precision': 0.25, 'recall': 0.4, 'f1-score': 0.3076923076923077, 'support': 5}, 'I-Referential-Term': {'precision': 0.2, 'recall': 0.1111111111111111, 'f1-score': 0.14285714285714285, 'support': 9}, 'B-Qualifier': {'precision': 0.0, 'recall': 0.0, 'f1-score': 0.0, 'support': 1}, 'I-Qualifier': {'precision': 0.2, 'recall': 0.3333333333333333, 'f1-score': 0.25, 'support': 3}, 'micro avg': {'precision': 0.7519176800748363, 'recall': 0.7272891784292436, 'f1-score': 0.7393983994112777, 'support': 5526}, 'macro avg': {'precision': 0.5174482029987, 'recall': 0.5085569332672744, 'f1-score': 0.5075962438565269, 'support': 5526}, 'weighted avg': {'precision': 0.7511014301128789, 'recall': 0.7272891784292437, 'f1-score': 0.7388286115647277, 'support': 5526}} "
   ]
  },
  {
   "cell_type": "code",
   "execution_count": 61,
   "id": "ea723039",
   "metadata": {},
   "outputs": [
    {
     "name": "stdout",
     "output_type": "stream",
     "text": [
      "B-Term [0.7493, 0.7299, 0.7394, 348]\n",
      "I-Term [0.7137, 0.7022, 0.7079, 497]\n",
      "B-Definition [0.6516, 0.5994, 0.6244, 312]\n",
      "I-Definition [0.7677, 0.745, 0.7562, 4219]\n",
      "B-Alias-Term [0.7333, 0.55, 0.6286, 40]\n",
      "I-Alias-Term [0.24, 0.1875, 0.2105, 32]\n",
      "B-Referential-Definition [0.8125, 0.8125, 0.8125, 16]\n",
      "I-Referential-Definition [0.8913, 0.9318, 0.9111, 44]\n",
      "B-Referential-Term [0.25, 0.4, 0.3077, 5]\n",
      "I-Referential-Term [0.2, 0.1111, 0.1429, 9]\n",
      "B-Qualifier [0.0, 0.0, 0.0, 1]\n",
      "I-Qualifier [0.2, 0.3333, 0.25, 3]\n",
      "micro avg [0.7519, 0.7273, 0.7394, 5526]\n",
      "macro avg [0.5174, 0.5086, 0.5076, 5526]\n",
      "weighted avg [0.7511, 0.7273, 0.7388, 5526]\n"
     ]
    }
   ],
   "source": [
    "for a in best_results:\n",
    "    print(a, [round(c, 4) for c in best_results[a].values()])"
   ]
  }
 ],
 "metadata": {
  "kernelspec": {
   "display_name": "Python 3 (ipykernel)",
   "language": "python",
   "name": "python3"
  },
  "language_info": {
   "codemirror_mode": {
    "name": "ipython",
    "version": 3
   },
   "file_extension": ".py",
   "mimetype": "text/x-python",
   "name": "python",
   "nbconvert_exporter": "python",
   "pygments_lexer": "ipython3",
   "version": "3.9.15"
  }
 },
 "nbformat": 4,
 "nbformat_minor": 5
}
